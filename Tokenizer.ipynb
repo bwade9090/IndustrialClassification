{
 "cells": [
  {
   "cell_type": "markdown",
   "metadata": {
    "id": "oSNg4K8H8aRr"
   },
   "source": [
    "# 기초세팅"
   ]
  },
  {
   "cell_type": "code",
   "execution_count": 1,
   "metadata": {
    "colab": {
     "base_uri": "https://localhost:8080/"
    },
    "executionInfo": {
     "elapsed": 11,
     "status": "ok",
     "timestamp": 1647959216880,
     "user": {
      "displayName": "bae CHO",
      "photoUrl": "https://lh3.googleusercontent.com/a/default-user=s64",
      "userId": "10400954908632605816"
     },
     "user_tz": -540
    },
    "id": "kSNN1Gu48AP_",
    "outputId": "7f4eff46-a45c-4313-90f6-8ce0b7c5d5dd"
   },
   "outputs": [
    {
     "name": "stdout",
     "output_type": "stream",
     "text": [
      "/content/drive/MyDrive/Colab Notebooks/IndustrialClassification\n"
     ]
    }
   ],
   "source": [
    "%cd drive/MyDrive/Colab\\ Notebooks/IndustrialClassification"
   ]
  },
  {
   "cell_type": "markdown",
   "metadata": {
    "id": "7sEHgEPU3EgR"
   },
   "source": [
    "## 한글 세팅"
   ]
  },
  {
   "cell_type": "code",
   "execution_count": null,
   "metadata": {
    "id": "-_-IhSURAsS6"
   },
   "outputs": [],
   "source": [
    "!sudo apt-get update -qq\n",
    "!sudo apt-get install fonts-nanum* -qq"
   ]
  },
  {
   "cell_type": "code",
   "execution_count": null,
   "metadata": {
    "id": "8lrylky2AvfW"
   },
   "outputs": [],
   "source": [
    "%matplotlib inline  \n",
    "\n",
    "import matplotlib as mpl  # 기본 설정 만지는 용도\n",
    "import matplotlib.pyplot as plt  # 그래프 그리는 용도\n",
    "import matplotlib.font_manager as fm  # 폰트 관련 용도"
   ]
  },
  {
   "cell_type": "code",
   "execution_count": null,
   "metadata": {
    "colab": {
     "base_uri": "https://localhost:8080/"
    },
    "executionInfo": {
     "elapsed": 7,
     "status": "ok",
     "timestamp": 1647622670710,
     "user": {
      "displayName": "bae CHO",
      "photoUrl": "https://lh3.googleusercontent.com/a/default-user=s64",
      "userId": "10400954908632605816"
     },
     "user_tz": -540
    },
    "id": "VxX8Ep_dAxjZ",
    "outputId": "5de7e5b9-202d-45cd-9157-3420c992ff47"
   },
   "outputs": [
    {
     "name": "stdout",
     "output_type": "stream",
     "text": [
      "NanumBarunGothic\n"
     ]
    }
   ],
   "source": [
    "path = '/usr/share/fonts/truetype/nanum/NanumBarunGothic.ttf' \n",
    "font_name = fm.FontProperties(fname=path, size=10).get_name()\n",
    "print(font_name)"
   ]
  },
  {
   "cell_type": "code",
   "execution_count": null,
   "metadata": {
    "id": "pbp14TO-AziI"
   },
   "outputs": [],
   "source": [
    "plt.rc('font', family=font_name)\n",
    "fm._rebuild()\n",
    "mpl.rcParams['axes.unicode_minus'] = False"
   ]
  },
  {
   "cell_type": "code",
   "execution_count": null,
   "metadata": {
    "id": "nEGRMx91A0YZ"
   },
   "outputs": [],
   "source": [
    "import seaborn as sns"
   ]
  },
  {
   "cell_type": "code",
   "execution_count": null,
   "metadata": {
    "id": "w6f9NbfmA57R"
   },
   "outputs": [],
   "source": [
    "sns.set(font=font_name, \n",
    "        rc={\"axes.unicode_minus\":False},\n",
    "        style='darkgrid')"
   ]
  },
  {
   "cell_type": "code",
   "execution_count": null,
   "metadata": {
    "id": "-4M3ITrTbarB"
   },
   "outputs": [],
   "source": [
    "import pandas as pd"
   ]
  },
  {
   "cell_type": "code",
   "execution_count": null,
   "metadata": {
    "colab": {
     "base_uri": "https://localhost:8080/",
     "height": 54
    },
    "executionInfo": {
     "elapsed": 442,
     "status": "ok",
     "timestamp": 1647622673807,
     "user": {
      "displayName": "bae CHO",
      "photoUrl": "https://lh3.googleusercontent.com/a/default-user=s64",
      "userId": "10400954908632605816"
     },
     "user_tz": -540
    },
    "id": "p-hS12I8A8hf",
    "outputId": "620def4a-d513-4545-f92e-0de6e337d6a1"
   },
   "outputs": [
    {
     "data": {
      "image/png": "[encoded data removed]",
      "text/plain": [
       "<Figure size 432x288 with 1 Axes>"
      ]
     },
     "metadata": {},
     "output_type": "display_data"
    }
   ],
   "source": [
    "pd.Series([1, -1, 0, 5, -5]).plot(title=\"한글폰트\")\n",
    "None"
   ]
  },
  {
   "cell_type": "code",
   "execution_count": null,
   "metadata": {
    "id": "jdckLUxI8cez"
   },
   "outputs": [],
   "source": []
  },
  {
   "cell_type": "markdown",
   "metadata": {
    "id": "d7U2z7y58_dQ"
   },
   "source": [
    "## Import"
   ]
  },
  {
   "cell_type": "code",
   "execution_count": 1,
   "metadata": {
    "executionInfo": {
     "elapsed": 898,
     "status": "ok",
     "timestamp": 1647959217774,
     "user": {
      "displayName": "bae CHO",
      "photoUrl": "https://lh3.googleusercontent.com/a/default-user=s64",
      "userId": "10400954908632605816"
     },
     "user_tz": -540
    },
    "id": "fwMyd6jS9B09"
   },
   "outputs": [],
   "source": [
    "import pickle\n",
    "import pandas as pd\n",
    "import seaborn as sns\n",
    "import numpy as np\n",
    "from typing import *"
   ]
  },
  {
   "cell_type": "code",
   "execution_count": null,
   "metadata": {
    "id": "nYk-TG7u9JuR"
   },
   "outputs": [],
   "source": []
  },
  {
   "cell_type": "markdown",
   "metadata": {
    "id": "Xd4SBii0FUvw"
   },
   "source": [
    "# Data load"
   ]
  },
  {
   "cell_type": "code",
   "execution_count": 2,
   "metadata": {
    "executionInfo": {
     "elapsed": 3220,
     "status": "ok",
     "timestamp": 1647960770975,
     "user": {
      "displayName": "bae CHO",
      "photoUrl": "https://lh3.googleusercontent.com/a/default-user=s64",
      "userId": "10400954908632605816"
     },
     "user_tz": -540
    },
    "id": "W-PpyEtaFYZ-"
   },
   "outputs": [],
   "source": [
    "df = pd.read_csv('data/dataset.csv', index_col='AI_id')"
   ]
  },
  {
   "cell_type": "code",
   "execution_count": 3,
   "metadata": {
    "colab": {
     "base_uri": "https://localhost:8080/",
     "height": 450
    },
    "executionInfo": {
     "elapsed": 4,
     "status": "ok",
     "timestamp": 1647960770976,
     "user": {
      "displayName": "bae CHO",
      "photoUrl": "https://lh3.googleusercontent.com/a/default-user=s64",
      "userId": "10400954908632605816"
     },
     "user_tz": -540
    },
    "id": "FiqJ6NqGKd9s",
    "outputId": "1144e73f-45e2-431b-ac87-ce9447cf9c59"
   },
   "outputs": [
    {
     "data": {
      "text/html": [
       "<div>\n",
       "<style scoped>\n",
       "    .dataframe tbody tr th:only-of-type {\n",
       "        vertical-align: middle;\n",
       "    }\n",
       "\n",
       "    .dataframe tbody tr th {\n",
       "        vertical-align: top;\n",
       "    }\n",
       "\n",
       "    .dataframe thead th {\n",
       "        text-align: right;\n",
       "    }\n",
       "</style>\n",
       "<table border=\"1\" class=\"dataframe\">\n",
       "  <thead>\n",
       "    <tr style=\"text-align: right;\">\n",
       "      <th></th>\n",
       "      <th>digit_1</th>\n",
       "      <th>digit_2</th>\n",
       "      <th>digit_3</th>\n",
       "      <th>text_obj</th>\n",
       "      <th>text_mthd</th>\n",
       "      <th>text_deal</th>\n",
       "    </tr>\n",
       "    <tr>\n",
       "      <th>AI_id</th>\n",
       "      <th></th>\n",
       "      <th></th>\n",
       "      <th></th>\n",
       "      <th></th>\n",
       "      <th></th>\n",
       "      <th></th>\n",
       "    </tr>\n",
       "  </thead>\n",
       "  <tbody>\n",
       "    <tr>\n",
       "      <th>id_0000001</th>\n",
       "      <td>S</td>\n",
       "      <td>95</td>\n",
       "      <td>952</td>\n",
       "      <td>카센터에서</td>\n",
       "      <td>자동차부분정비</td>\n",
       "      <td>타이어오일교환</td>\n",
       "    </tr>\n",
       "    <tr>\n",
       "      <th>id_0000002</th>\n",
       "      <td>G</td>\n",
       "      <td>47</td>\n",
       "      <td>472</td>\n",
       "      <td>상점내에서</td>\n",
       "      <td>일반인을 대상으로</td>\n",
       "      <td>채소.과일판매</td>\n",
       "    </tr>\n",
       "    <tr>\n",
       "      <th>id_0000003</th>\n",
       "      <td>G</td>\n",
       "      <td>46</td>\n",
       "      <td>467</td>\n",
       "      <td>절단하여사업체에도매</td>\n",
       "      <td>공업용고무를가지고</td>\n",
       "      <td>합성고무도매</td>\n",
       "    </tr>\n",
       "    <tr>\n",
       "      <th>id_0000004</th>\n",
       "      <td>G</td>\n",
       "      <td>47</td>\n",
       "      <td>475</td>\n",
       "      <td>영업점에서</td>\n",
       "      <td>일반소비자에게</td>\n",
       "      <td>열쇠잠금장치</td>\n",
       "    </tr>\n",
       "    <tr>\n",
       "      <th>id_0000005</th>\n",
       "      <td>Q</td>\n",
       "      <td>87</td>\n",
       "      <td>872</td>\n",
       "      <td>어린이집</td>\n",
       "      <td>보호자의 위탁을 받아</td>\n",
       "      <td>취학전아동보육</td>\n",
       "    </tr>\n",
       "    <tr>\n",
       "      <th>...</th>\n",
       "      <td>...</td>\n",
       "      <td>...</td>\n",
       "      <td>...</td>\n",
       "      <td>...</td>\n",
       "      <td>...</td>\n",
       "      <td>...</td>\n",
       "    </tr>\n",
       "    <tr>\n",
       "      <th>id_0999996</th>\n",
       "      <td>C</td>\n",
       "      <td>13</td>\n",
       "      <td>134</td>\n",
       "      <td>제품입고</td>\n",
       "      <td>워싱</td>\n",
       "      <td>청바지워싱</td>\n",
       "    </tr>\n",
       "    <tr>\n",
       "      <th>id_0999997</th>\n",
       "      <td>F</td>\n",
       "      <td>42</td>\n",
       "      <td>424</td>\n",
       "      <td>현장에서</td>\n",
       "      <td>고객의요청에의해</td>\n",
       "      <td>실내인테리어</td>\n",
       "    </tr>\n",
       "    <tr>\n",
       "      <th>id_0999998</th>\n",
       "      <td>G</td>\n",
       "      <td>47</td>\n",
       "      <td>474</td>\n",
       "      <td>영업점에서</td>\n",
       "      <td>일반소비자에게</td>\n",
       "      <td>여성의류 판매</td>\n",
       "    </tr>\n",
       "    <tr>\n",
       "      <th>id_0999999</th>\n",
       "      <td>P</td>\n",
       "      <td>85</td>\n",
       "      <td>856</td>\n",
       "      <td>사업장에서</td>\n",
       "      <td>일반고객을대상으로</td>\n",
       "      <td>필라테스</td>\n",
       "    </tr>\n",
       "    <tr>\n",
       "      <th>id_1000000</th>\n",
       "      <td>I</td>\n",
       "      <td>56</td>\n",
       "      <td>561</td>\n",
       "      <td>사업장에서</td>\n",
       "      <td>접객시설을 갖추고</td>\n",
       "      <td>한식(미역구)판매</td>\n",
       "    </tr>\n",
       "  </tbody>\n",
       "</table>\n",
       "<p>1000000 rows × 6 columns</p>\n",
       "</div>"
      ],
      "text/plain": [
       "           digit_1  digit_2  digit_3    text_obj    text_mthd  text_deal\n",
       "AI_id                                                                   \n",
       "id_0000001       S       95      952       카센터에서      자동차부분정비    타이어오일교환\n",
       "id_0000002       G       47      472       상점내에서    일반인을 대상으로    채소.과일판매\n",
       "id_0000003       G       46      467  절단하여사업체에도매    공업용고무를가지고     합성고무도매\n",
       "id_0000004       G       47      475       영업점에서      일반소비자에게     열쇠잠금장치\n",
       "id_0000005       Q       87      872        어린이집  보호자의 위탁을 받아    취학전아동보육\n",
       "...            ...      ...      ...         ...          ...        ...\n",
       "id_0999996       C       13      134        제품입고           워싱      청바지워싱\n",
       "id_0999997       F       42      424        현장에서     고객의요청에의해     실내인테리어\n",
       "id_0999998       G       47      474       영업점에서      일반소비자에게    여성의류 판매\n",
       "id_0999999       P       85      856       사업장에서    일반고객을대상으로       필라테스\n",
       "id_1000000       I       56      561       사업장에서    접객시설을 갖추고  한식(미역구)판매\n",
       "\n",
       "[1000000 rows x 6 columns]"
      ]
     },
     "execution_count": 3,
     "metadata": {},
     "output_type": "execute_result"
    }
   ],
   "source": [
    "df"
   ]
  },
  {
   "cell_type": "markdown",
   "metadata": {
    "id": "HV43yTgrK-e2"
   },
   "source": [
    "# External tokenizer"
   ]
  },
  {
   "cell_type": "code",
   "execution_count": null,
   "metadata": {
    "colab": {
     "base_uri": "https://localhost:8080/"
    },
    "executionInfo": {
     "elapsed": 11212,
     "status": "ok",
     "timestamp": 1647592660406,
     "user": {
      "displayName": "bae CHO",
      "photoUrl": "https://lh3.googleusercontent.com/a/default-user=s64",
      "userId": "10400954908632605816"
     },
     "user_tz": -540
    },
    "id": "N3JFIwS1LAKL",
    "outputId": "fd0048bc-6440-4b7c-af4b-2bbe6ba6712b"
   },
   "outputs": [
    {
     "name": "stdout",
     "output_type": "stream",
     "text": [
      "Collecting transformers\n",
      "  Downloading transformers-4.17.0-py3-none-any.whl (3.8 MB)\n",
      "\u001b[K     |████████████████████████████████| 3.8 MB 5.0 MB/s \n",
      "\u001b[?25hRequirement already satisfied: packaging>=20.0 in /usr/local/lib/python3.7/dist-packages (from transformers) (21.3)\n",
      "Collecting sacremoses\n",
      "  Downloading sacremoses-0.0.49-py3-none-any.whl (895 kB)\n",
      "\u001b[K     |████████████████████████████████| 895 kB 59.1 MB/s \n",
      "\u001b[?25hRequirement already satisfied: numpy>=1.17 in /usr/local/lib/python3.7/dist-packages (from transformers) (1.21.5)\n",
      "Requirement already satisfied: filelock in /usr/local/lib/python3.7/dist-packages (from transformers) (3.6.0)\n",
      "Collecting tokenizers!=0.11.3,>=0.11.1\n",
      "  Downloading tokenizers-0.11.6-cp37-cp37m-manylinux_2_12_x86_64.manylinux2010_x86_64.whl (6.5 MB)\n",
      "\u001b[K     |████████████████████████████████| 6.5 MB 32.9 MB/s \n",
      "\u001b[?25hRequirement already satisfied: tqdm>=4.27 in /usr/local/lib/python3.7/dist-packages (from transformers) (4.63.0)\n",
      "Requirement already satisfied: regex!=2019.12.17 in /usr/local/lib/python3.7/dist-packages (from transformers) (2019.12.20)\n",
      "Collecting pyyaml>=5.1\n",
      "  Downloading PyYAML-6.0-cp37-cp37m-manylinux_2_5_x86_64.manylinux1_x86_64.manylinux_2_12_x86_64.manylinux2010_x86_64.whl (596 kB)\n",
      "\u001b[K     |████████████████████████████████| 596 kB 55.0 MB/s \n",
      "\u001b[?25hCollecting huggingface-hub<1.0,>=0.1.0\n",
      "  Downloading huggingface_hub-0.4.0-py3-none-any.whl (67 kB)\n",
      "\u001b[K     |████████████████████████████████| 67 kB 4.0 MB/s \n",
      "\u001b[?25hRequirement already satisfied: importlib-metadata in /usr/local/lib/python3.7/dist-packages (from transformers) (4.11.2)\n",
      "Requirement already satisfied: requests in /usr/local/lib/python3.7/dist-packages (from transformers) (2.23.0)\n",
      "Requirement already satisfied: typing-extensions>=3.7.4.3 in /usr/local/lib/python3.7/dist-packages (from huggingface-hub<1.0,>=0.1.0->transformers) (3.10.0.2)\n",
      "Requirement already satisfied: pyparsing!=3.0.5,>=2.0.2 in /usr/local/lib/python3.7/dist-packages (from packaging>=20.0->transformers) (3.0.7)\n",
      "Requirement already satisfied: zipp>=0.5 in /usr/local/lib/python3.7/dist-packages (from importlib-metadata->transformers) (3.7.0)\n",
      "Requirement already satisfied: urllib3!=1.25.0,!=1.25.1,<1.26,>=1.21.1 in /usr/local/lib/python3.7/dist-packages (from requests->transformers) (1.24.3)\n",
      "Requirement already satisfied: idna<3,>=2.5 in /usr/local/lib/python3.7/dist-packages (from requests->transformers) (2.10)\n",
      "Requirement already satisfied: chardet<4,>=3.0.2 in /usr/local/lib/python3.7/dist-packages (from requests->transformers) (3.0.4)\n",
      "Requirement already satisfied: certifi>=2017.4.17 in /usr/local/lib/python3.7/dist-packages (from requests->transformers) (2021.10.8)\n",
      "Requirement already satisfied: joblib in /usr/local/lib/python3.7/dist-packages (from sacremoses->transformers) (1.1.0)\n",
      "Requirement already satisfied: six in /usr/local/lib/python3.7/dist-packages (from sacremoses->transformers) (1.15.0)\n",
      "Requirement already satisfied: click in /usr/local/lib/python3.7/dist-packages (from sacremoses->transformers) (7.1.2)\n",
      "Installing collected packages: pyyaml, tokenizers, sacremoses, huggingface-hub, transformers\n",
      "  Attempting uninstall: pyyaml\n",
      "    Found existing installation: PyYAML 3.13\n",
      "    Uninstalling PyYAML-3.13:\n",
      "      Successfully uninstalled PyYAML-3.13\n",
      "Successfully installed huggingface-hub-0.4.0 pyyaml-6.0 sacremoses-0.0.49 tokenizers-0.11.6 transformers-4.17.0\n"
     ]
    }
   ],
   "source": [
    "!pip install transformers"
   ]
  },
  {
   "cell_type": "markdown",
   "metadata": {
    "id": "As9fO3qBLA4e"
   },
   "source": [
    "## SKT"
   ]
  },
  {
   "cell_type": "code",
   "execution_count": null,
   "metadata": {
    "id": "v1LfmbreLCMc"
   },
   "outputs": [],
   "source": [
    "from transformers import PreTrainedTokenizerFast"
   ]
  },
  {
   "cell_type": "code",
   "execution_count": null,
   "metadata": {
    "colab": {
     "base_uri": "https://localhost:8080/",
     "height": 152,
     "referenced_widgets": [
      "3b6573cab19849649da88515f1dc9498",
      "ac0d53bfd6ee4504b45a716f1e38e07b",
      "43285d908c7b4a1084e1a054ec4abab8",
      "ab4e4f33247c449f96326889bcf36aa3",
      "0cde198a4474408f89798733582b6585",
      "526555934eb84730a3415793922c627a",
      "2a95fec31ac54120b540377fe7ff829b",
      "938dc2a4bbe3483a954556f13a3b1e62",
      "7ea0f1b291ae4f2bbeb5ec58f6b2a7f6",
      "9f01b2bcd6f84b3e81bd6284e94e479b",
      "4f041329650548af9f65b2e09134c10d",
      "a913ca25e8584f239d774c8053bd73e8",
      "f5ae82e5ea574aefa847c2b174847466",
      "001eda776ce841caa184a99af3731ae4",
      "2220cd740f0444ce8b0a8844b09bc5a4",
      "845ea6f469a64b9ea44c1a72a4cb5005",
      "151a979d15cb4948ac872551dbd40fca",
      "2fd2dc65686941e0b6240ef06b5794ec",
      "842009c0874d40b2917352ceea82d99f",
      "07735708533f40c99c571578af7d400f",
      "7b06f1bb55c24da5ab6cb706298162da",
      "e8bd3a91cdb34719bb3fa2e9c497e3c7"
     ]
    },
    "executionInfo": {
     "elapsed": 4120,
     "status": "ok",
     "timestamp": 1647592733790,
     "user": {
      "displayName": "bae CHO",
      "photoUrl": "https://lh3.googleusercontent.com/a/default-user=s64",
      "userId": "10400954908632605816"
     },
     "user_tz": -540
    },
    "id": "djQX1R4ELb1q",
    "outputId": "dcb9fc80-a4e7-41ee-968d-5c25f27a5dea"
   },
   "outputs": [
    {
     "data": {
      "application/vnd.jupyter.widget-view+json": {
       "model_id": "3b6573cab19849649da88515f1dc9498",
       "version_major": 2,
       "version_minor": 0
      },
      "text/plain": [
       "Downloading:   0%|          | 0.00/2.69M [00:00<?, ?B/s]"
      ]
     },
     "metadata": {},
     "output_type": "display_data"
    },
    {
     "data": {
      "application/vnd.jupyter.widget-view+json": {
       "model_id": "a913ca25e8584f239d774c8053bd73e8",
       "version_major": 2,
       "version_minor": 0
      },
      "text/plain": [
       "Downloading:   0%|          | 0.00/0.98k [00:00<?, ?B/s]"
      ]
     },
     "metadata": {},
     "output_type": "display_data"
    },
    {
     "name": "stderr",
     "output_type": "stream",
     "text": [
      "The tokenizer class you load from this checkpoint is not the same type as the class this function is called from. It may result in unexpected tokenization. \n",
      "The tokenizer class you load from this checkpoint is 'GPT2Tokenizer'. \n",
      "The class this function is called from is 'PreTrainedTokenizerFast'.\n"
     ]
    }
   ],
   "source": [
    "tokenizer = PreTrainedTokenizerFast.from_pretrained(\"skt/kogpt2-base-v2\",\n",
    "                                                    bos_token='</s>', eos_token='</s>', unk_token='<unk>',\n",
    "                                                    pad_token='<pad>', mask_token='<mask>')"
   ]
  },
  {
   "cell_type": "code",
   "execution_count": null,
   "metadata": {
    "colab": {
     "base_uri": "https://localhost:8080/"
    },
    "executionInfo": {
     "elapsed": 241,
     "status": "ok",
     "timestamp": 1647592745093,
     "user": {
      "displayName": "bae CHO",
      "photoUrl": "https://lh3.googleusercontent.com/a/default-user=s64",
      "userId": "10400954908632605816"
     },
     "user_tz": -540
    },
    "id": "SX-PLf09LeqM",
    "outputId": "3464ff45-3580-4338-bdb9-a3ff55ad216e"
   },
   "outputs": [
    {
     "data": {
      "text/plain": [
       "['▁안녕',\n",
       " '하',\n",
       " '세',\n",
       " '요.',\n",
       " '▁한국어',\n",
       " '▁G',\n",
       " 'P',\n",
       " 'T',\n",
       " '-2',\n",
       " '▁입',\n",
       " '니다.',\n",
       " '😤',\n",
       " ':)',\n",
       " 'l^o']"
      ]
     },
     "execution_count": 17,
     "metadata": {},
     "output_type": "execute_result"
    }
   ],
   "source": [
    "tokenizer.tokenize(\"안녕하세요. 한국어 GPT-2 입니다.😤:)l^o\")"
   ]
  },
  {
   "cell_type": "code",
   "execution_count": null,
   "metadata": {
    "colab": {
     "base_uri": "https://localhost:8080/"
    },
    "executionInfo": {
     "elapsed": 261,
     "status": "ok",
     "timestamp": 1647592898952,
     "user": {
      "displayName": "bae CHO",
      "photoUrl": "https://lh3.googleusercontent.com/a/default-user=s64",
      "userId": "10400954908632605816"
     },
     "user_tz": -540
    },
    "id": "NbbzhnO1MD6Y",
    "outputId": "a236747f-df2c-4c67-bd3d-4ced1e6ad2be"
   },
   "outputs": [
    {
     "data": {
      "text/plain": [
       "str"
      ]
     },
     "execution_count": 21,
     "metadata": {},
     "output_type": "execute_result"
    }
   ],
   "source": [
    "type(df.text_obj[0])"
   ]
  },
  {
   "cell_type": "code",
   "execution_count": null,
   "metadata": {
    "colab": {
     "base_uri": "https://localhost:8080/"
    },
    "executionInfo": {
     "elapsed": 225,
     "status": "ok",
     "timestamp": 1647592945099,
     "user": {
      "displayName": "bae CHO",
      "photoUrl": "https://lh3.googleusercontent.com/a/default-user=s64",
      "userId": "10400954908632605816"
     },
     "user_tz": -540
    },
    "id": "s6D3mJPOMJU-",
    "outputId": "771fe6f9-abc6-4d3b-dcfa-b81c5dee8bc9"
   },
   "outputs": [
    {
     "data": {
      "text/plain": [
       "['▁절단', '하여', '사업', '체', '에도', '매']"
      ]
     },
     "execution_count": 24,
     "metadata": {},
     "output_type": "execute_result"
    }
   ],
   "source": [
    "tokenizer.tokenize(df.text_obj[2])"
   ]
  },
  {
   "cell_type": "code",
   "execution_count": null,
   "metadata": {
    "colab": {
     "base_uri": "https://localhost:8080/"
    },
    "executionInfo": {
     "elapsed": 251,
     "status": "ok",
     "timestamp": 1647593657133,
     "user": {
      "displayName": "bae CHO",
      "photoUrl": "https://lh3.googleusercontent.com/a/default-user=s64",
      "userId": "10400954908632605816"
     },
     "user_tz": -540
    },
    "id": "2GnufTQOO67G",
    "outputId": "23bab7c6-f5f2-4efd-9ff8-c3b7db26a2f2"
   },
   "outputs": [
    {
     "data": {
      "text/plain": [
       "['▁절단', '하여', '▁사업', '체에', '▁도매']"
      ]
     },
     "execution_count": 32,
     "metadata": {},
     "output_type": "execute_result"
    }
   ],
   "source": [
    "tokenizer.tokenize('절단하여 사업체에 도매')"
   ]
  },
  {
   "cell_type": "code",
   "execution_count": null,
   "metadata": {
    "id": "Cqvu1HUeQgOA"
   },
   "outputs": [],
   "source": [
    "def report_error(s: str) -> None:\n",
    "  try:\n",
    "    tokenizer.tokenize(s)\n",
    "  except:\n",
    "    print(s)"
   ]
  },
  {
   "cell_type": "code",
   "execution_count": null,
   "metadata": {
    "id": "fwJbGslCNP2-"
   },
   "outputs": [],
   "source": [
    "def tokenize(s: str)-> List[str]:\n",
    "  try:\n",
    "    return tokenizer.tokenize(s)\n",
    "  except:\n",
    "    return []"
   ]
  },
  {
   "cell_type": "code",
   "execution_count": null,
   "metadata": {
    "id": "d_krJCHGLiYj"
   },
   "outputs": [],
   "source": [
    "df['text_obj_skt'] = df.text_obj.apply(tokenize)"
   ]
  },
  {
   "cell_type": "code",
   "execution_count": null,
   "metadata": {
    "id": "MYZ4_h5AOfzk"
   },
   "outputs": [],
   "source": [
    "df['text_mthd_skt'] = df.text_mthd.apply(tokenize)\n",
    "df['text_deal_skt'] = df.text_deal.apply(tokenize)"
   ]
  },
  {
   "cell_type": "code",
   "execution_count": null,
   "metadata": {
    "colab": {
     "base_uri": "https://localhost:8080/",
     "height": 647
    },
    "executionInfo": {
     "elapsed": 367,
     "status": "ok",
     "timestamp": 1647601115443,
     "user": {
      "displayName": "bae CHO",
      "photoUrl": "https://lh3.googleusercontent.com/a/default-user=s64",
      "userId": "10400954908632605816"
     },
     "user_tz": -540
    },
    "id": "U8PDb80Srbpr",
    "outputId": "63bc8f71-f452-46bc-f9d7-6e6527ff8883"
   },
   "outputs": [
    {
     "data": {
      "text/html": [
       "\n",
       "  <div id=\"df-ae4b40e4-7bbf-4d46-a159-b9d64a5358ea\">\n",
       "    <div class=\"colab-df-container\">\n",
       "      <div>\n",
       "<style scoped>\n",
       "    .dataframe tbody tr th:only-of-type {\n",
       "        vertical-align: middle;\n",
       "    }\n",
       "\n",
       "    .dataframe tbody tr th {\n",
       "        vertical-align: top;\n",
       "    }\n",
       "\n",
       "    .dataframe thead th {\n",
       "        text-align: right;\n",
       "    }\n",
       "</style>\n",
       "<table border=\"1\" class=\"dataframe\">\n",
       "  <thead>\n",
       "    <tr style=\"text-align: right;\">\n",
       "      <th></th>\n",
       "      <th>digit_1</th>\n",
       "      <th>digit_2</th>\n",
       "      <th>digit_3</th>\n",
       "      <th>text_obj</th>\n",
       "      <th>text_mthd</th>\n",
       "      <th>text_deal</th>\n",
       "      <th>text_obj_skt</th>\n",
       "      <th>text_mthd_skt</th>\n",
       "      <th>text_deal_skt</th>\n",
       "    </tr>\n",
       "    <tr>\n",
       "      <th>AI_id</th>\n",
       "      <th></th>\n",
       "      <th></th>\n",
       "      <th></th>\n",
       "      <th></th>\n",
       "      <th></th>\n",
       "      <th></th>\n",
       "      <th></th>\n",
       "      <th></th>\n",
       "      <th></th>\n",
       "    </tr>\n",
       "  </thead>\n",
       "  <tbody>\n",
       "    <tr>\n",
       "      <th>id_0000001</th>\n",
       "      <td>S</td>\n",
       "      <td>95</td>\n",
       "      <td>952</td>\n",
       "      <td>카센터에서</td>\n",
       "      <td>자동차부분정비</td>\n",
       "      <td>타이어오일교환</td>\n",
       "      <td>[▁카, 센터, 에서]</td>\n",
       "      <td>[▁자동차, 부분, 정비]</td>\n",
       "      <td>[▁타이어, 오, 일, 교환]</td>\n",
       "    </tr>\n",
       "    <tr>\n",
       "      <th>id_0000002</th>\n",
       "      <td>G</td>\n",
       "      <td>47</td>\n",
       "      <td>472</td>\n",
       "      <td>상점내에서</td>\n",
       "      <td>일반인을 대상으로</td>\n",
       "      <td>채소.과일판매</td>\n",
       "      <td>[▁상점, 내에서]</td>\n",
       "      <td>[▁일반, 인을, ▁대상으로]</td>\n",
       "      <td>[▁채소, ., 과일, 판매]</td>\n",
       "    </tr>\n",
       "    <tr>\n",
       "      <th>id_0000003</th>\n",
       "      <td>G</td>\n",
       "      <td>46</td>\n",
       "      <td>467</td>\n",
       "      <td>절단하여사업체에도매</td>\n",
       "      <td>공업용고무를가지고</td>\n",
       "      <td>합성고무도매</td>\n",
       "      <td>[▁절단, 하여, 사업, 체, 에도, 매]</td>\n",
       "      <td>[▁공업, 용, 고, 무를, 가, 지고]</td>\n",
       "      <td>[▁합성, 고, 무도, 매]</td>\n",
       "    </tr>\n",
       "    <tr>\n",
       "      <th>id_0000004</th>\n",
       "      <td>G</td>\n",
       "      <td>47</td>\n",
       "      <td>475</td>\n",
       "      <td>영업점에서</td>\n",
       "      <td>일반소비자에게</td>\n",
       "      <td>열쇠잠금장치</td>\n",
       "      <td>[▁영업, 점에서]</td>\n",
       "      <td>[▁일반, 소비, 자에게]</td>\n",
       "      <td>[▁열쇠, 잠, 금, 장치]</td>\n",
       "    </tr>\n",
       "    <tr>\n",
       "      <th>id_0000005</th>\n",
       "      <td>Q</td>\n",
       "      <td>87</td>\n",
       "      <td>872</td>\n",
       "      <td>어린이집</td>\n",
       "      <td>보호자의 위탁을 받아</td>\n",
       "      <td>취학전아동보육</td>\n",
       "      <td>[▁어린이, 집]</td>\n",
       "      <td>[▁보호, 자의, ▁위탁, 을, ▁받아]</td>\n",
       "      <td>[▁취학, 전, 아동, 보육]</td>\n",
       "    </tr>\n",
       "    <tr>\n",
       "      <th>...</th>\n",
       "      <td>...</td>\n",
       "      <td>...</td>\n",
       "      <td>...</td>\n",
       "      <td>...</td>\n",
       "      <td>...</td>\n",
       "      <td>...</td>\n",
       "      <td>...</td>\n",
       "      <td>...</td>\n",
       "      <td>...</td>\n",
       "    </tr>\n",
       "    <tr>\n",
       "      <th>id_0999996</th>\n",
       "      <td>C</td>\n",
       "      <td>13</td>\n",
       "      <td>134</td>\n",
       "      <td>제품입고</td>\n",
       "      <td>워싱</td>\n",
       "      <td>청바지워싱</td>\n",
       "      <td>[▁제품, 입, 고]</td>\n",
       "      <td>[▁워, 싱]</td>\n",
       "      <td>[▁청, 바지, 워, 싱]</td>\n",
       "    </tr>\n",
       "    <tr>\n",
       "      <th>id_0999997</th>\n",
       "      <td>F</td>\n",
       "      <td>42</td>\n",
       "      <td>424</td>\n",
       "      <td>현장에서</td>\n",
       "      <td>고객의요청에의해</td>\n",
       "      <td>실내인테리어</td>\n",
       "      <td>[▁현장에서]</td>\n",
       "      <td>[▁고객의, 요, 청에, 의, 해]</td>\n",
       "      <td>[▁실내, 인, 테, 리어]</td>\n",
       "    </tr>\n",
       "    <tr>\n",
       "      <th>id_0999998</th>\n",
       "      <td>G</td>\n",
       "      <td>47</td>\n",
       "      <td>474</td>\n",
       "      <td>영업점에서</td>\n",
       "      <td>일반소비자에게</td>\n",
       "      <td>여성의류 판매</td>\n",
       "      <td>[▁영업, 점에서]</td>\n",
       "      <td>[▁일반, 소비, 자에게]</td>\n",
       "      <td>[▁여성의, 류, ▁판매]</td>\n",
       "    </tr>\n",
       "    <tr>\n",
       "      <th>id_0999999</th>\n",
       "      <td>P</td>\n",
       "      <td>85</td>\n",
       "      <td>856</td>\n",
       "      <td>사업장에서</td>\n",
       "      <td>일반고객을대상으로</td>\n",
       "      <td>필라테스</td>\n",
       "      <td>[▁사업, 장에서]</td>\n",
       "      <td>[▁일반, 고객, 을, 대상으로]</td>\n",
       "      <td>[▁필라, 테스]</td>\n",
       "    </tr>\n",
       "    <tr>\n",
       "      <th>id_1000000</th>\n",
       "      <td>I</td>\n",
       "      <td>56</td>\n",
       "      <td>561</td>\n",
       "      <td>사업장에서</td>\n",
       "      <td>접객시설을 갖추고</td>\n",
       "      <td>한식(미역구)판매</td>\n",
       "      <td>[▁사업, 장에서]</td>\n",
       "      <td>[▁접, 객, 시설을, ▁갖추고]</td>\n",
       "      <td>[▁한, 식(, 미, 역, 구, ), 판매]</td>\n",
       "    </tr>\n",
       "  </tbody>\n",
       "</table>\n",
       "<p>1000000 rows × 9 columns</p>\n",
       "</div>\n",
       "      <button class=\"colab-df-convert\" onclick=\"convertToInteractive('df-ae4b40e4-7bbf-4d46-a159-b9d64a5358ea')\"\n",
       "              title=\"Convert this dataframe to an interactive table.\"\n",
       "              style=\"display:none;\">\n",
       "        \n",
       "  <svg xmlns=\"http://www.w3.org/2000/svg\" height=\"24px\"viewBox=\"0 0 24 24\"\n",
       "       width=\"24px\">\n",
       "    <path d=\"M0 0h24v24H0V0z\" fill=\"none\"/>\n",
       "    <path d=\"M18.56 5.44l.94 2.06.94-2.06 2.06-.94-2.06-.94-.94-2.06-.94 2.06-2.06.94zm-11 1L8.5 8.5l.94-2.06 2.06-.94-2.06-.94L8.5 2.5l-.94 2.06-2.06.94zm10 10l.94 2.06.94-2.06 2.06-.94-2.06-.94-.94-2.06-.94 2.06-2.06.94z\"/><path d=\"M17.41 7.96l-1.37-1.37c-.4-.4-.92-.59-1.43-.59-.52 0-1.04.2-1.43.59L10.3 9.45l-7.72 7.72c-.78.78-.78 2.05 0 2.83L4 21.41c.39.39.9.59 1.41.59.51 0 1.02-.2 1.41-.59l7.78-7.78 2.81-2.81c.8-.78.8-2.07 0-2.86zM5.41 20L4 18.59l7.72-7.72 1.47 1.35L5.41 20z\"/>\n",
       "  </svg>\n",
       "      </button>\n",
       "      \n",
       "  <style>\n",
       "    .colab-df-container {\n",
       "      display:flex;\n",
       "      flex-wrap:wrap;\n",
       "      gap: 12px;\n",
       "    }\n",
       "\n",
       "    .colab-df-convert {\n",
       "      background-color: #E8F0FE;\n",
       "      border: none;\n",
       "      border-radius: 50%;\n",
       "      cursor: pointer;\n",
       "      display: none;\n",
       "      fill: #1967D2;\n",
       "      height: 32px;\n",
       "      padding: 0 0 0 0;\n",
       "      width: 32px;\n",
       "    }\n",
       "\n",
       "    .colab-df-convert:hover {\n",
       "      background-color: #E2EBFA;\n",
       "      box-shadow: 0px 1px 2px rgba(60, 64, 67, 0.3), 0px 1px 3px 1px rgba(60, 64, 67, 0.15);\n",
       "      fill: #174EA6;\n",
       "    }\n",
       "\n",
       "    [theme=dark] .colab-df-convert {\n",
       "      background-color: #3B4455;\n",
       "      fill: #D2E3FC;\n",
       "    }\n",
       "\n",
       "    [theme=dark] .colab-df-convert:hover {\n",
       "      background-color: #434B5C;\n",
       "      box-shadow: 0px 1px 3px 1px rgba(0, 0, 0, 0.15);\n",
       "      filter: drop-shadow(0px 1px 2px rgba(0, 0, 0, 0.3));\n",
       "      fill: #FFFFFF;\n",
       "    }\n",
       "  </style>\n",
       "\n",
       "      <script>\n",
       "        const buttonEl =\n",
       "          document.querySelector('#df-ae4b40e4-7bbf-4d46-a159-b9d64a5358ea button.colab-df-convert');\n",
       "        buttonEl.style.display =\n",
       "          google.colab.kernel.accessAllowed ? 'block' : 'none';\n",
       "\n",
       "        async function convertToInteractive(key) {\n",
       "          const element = document.querySelector('#df-ae4b40e4-7bbf-4d46-a159-b9d64a5358ea');\n",
       "          const dataTable =\n",
       "            await google.colab.kernel.invokeFunction('convertToInteractive',\n",
       "                                                     [key], {});\n",
       "          if (!dataTable) return;\n",
       "\n",
       "          const docLinkHtml = 'Like what you see? Visit the ' +\n",
       "            '<a target=\"_blank\" href=https://colab.research.google.com/notebooks/data_table.ipynb>data table notebook</a>'\n",
       "            + ' to learn more about interactive tables.';\n",
       "          element.innerHTML = '';\n",
       "          dataTable['output_type'] = 'display_data';\n",
       "          await google.colab.output.renderOutput(dataTable, element);\n",
       "          const docLink = document.createElement('div');\n",
       "          docLink.innerHTML = docLinkHtml;\n",
       "          element.appendChild(docLink);\n",
       "        }\n",
       "      </script>\n",
       "    </div>\n",
       "  </div>\n",
       "  "
      ],
      "text/plain": [
       "           digit_1  digit_2  digit_3    text_obj    text_mthd  text_deal  \\\n",
       "AI_id                                                                      \n",
       "id_0000001       S       95      952       카센터에서      자동차부분정비    타이어오일교환   \n",
       "id_0000002       G       47      472       상점내에서    일반인을 대상으로    채소.과일판매   \n",
       "id_0000003       G       46      467  절단하여사업체에도매    공업용고무를가지고     합성고무도매   \n",
       "id_0000004       G       47      475       영업점에서      일반소비자에게     열쇠잠금장치   \n",
       "id_0000005       Q       87      872        어린이집  보호자의 위탁을 받아    취학전아동보육   \n",
       "...            ...      ...      ...         ...          ...        ...   \n",
       "id_0999996       C       13      134        제품입고           워싱      청바지워싱   \n",
       "id_0999997       F       42      424        현장에서     고객의요청에의해     실내인테리어   \n",
       "id_0999998       G       47      474       영업점에서      일반소비자에게    여성의류 판매   \n",
       "id_0999999       P       85      856       사업장에서    일반고객을대상으로       필라테스   \n",
       "id_1000000       I       56      561       사업장에서    접객시설을 갖추고  한식(미역구)판매   \n",
       "\n",
       "                       text_obj_skt           text_mthd_skt  \\\n",
       "AI_id                                                         \n",
       "id_0000001             [▁카, 센터, 에서]          [▁자동차, 부분, 정비]   \n",
       "id_0000002               [▁상점, 내에서]        [▁일반, 인을, ▁대상으로]   \n",
       "id_0000003  [▁절단, 하여, 사업, 체, 에도, 매]  [▁공업, 용, 고, 무를, 가, 지고]   \n",
       "id_0000004               [▁영업, 점에서]          [▁일반, 소비, 자에게]   \n",
       "id_0000005                [▁어린이, 집]  [▁보호, 자의, ▁위탁, 을, ▁받아]   \n",
       "...                             ...                     ...   \n",
       "id_0999996              [▁제품, 입, 고]                 [▁워, 싱]   \n",
       "id_0999997                  [▁현장에서]     [▁고객의, 요, 청에, 의, 해]   \n",
       "id_0999998               [▁영업, 점에서]          [▁일반, 소비, 자에게]   \n",
       "id_0999999               [▁사업, 장에서]      [▁일반, 고객, 을, 대상으로]   \n",
       "id_1000000               [▁사업, 장에서]      [▁접, 객, 시설을, ▁갖추고]   \n",
       "\n",
       "                       text_deal_skt  \n",
       "AI_id                                 \n",
       "id_0000001          [▁타이어, 오, 일, 교환]  \n",
       "id_0000002          [▁채소, ., 과일, 판매]  \n",
       "id_0000003           [▁합성, 고, 무도, 매]  \n",
       "id_0000004           [▁열쇠, 잠, 금, 장치]  \n",
       "id_0000005          [▁취학, 전, 아동, 보육]  \n",
       "...                              ...  \n",
       "id_0999996            [▁청, 바지, 워, 싱]  \n",
       "id_0999997           [▁실내, 인, 테, 리어]  \n",
       "id_0999998            [▁여성의, 류, ▁판매]  \n",
       "id_0999999                 [▁필라, 테스]  \n",
       "id_1000000  [▁한, 식(, 미, 역, 구, ), 판매]  \n",
       "\n",
       "[1000000 rows x 9 columns]"
      ]
     },
     "execution_count": 45,
     "metadata": {},
     "output_type": "execute_result"
    }
   ],
   "source": [
    "df"
   ]
  },
  {
   "cell_type": "code",
   "execution_count": null,
   "metadata": {
    "colab": {
     "base_uri": "https://localhost:8080/"
    },
    "executionInfo": {
     "elapsed": 878,
     "status": "ok",
     "timestamp": 1647601092787,
     "user": {
      "displayName": "bae CHO",
      "photoUrl": "https://lh3.googleusercontent.com/a/default-user=s64",
      "userId": "10400954908632605816"
     },
     "user_tz": -540
    },
    "id": "Cvm8OkNeL4Oi",
    "outputId": "fd5d22c7-8dda-4c09-97a1-c7bc804e8342"
   },
   "outputs": [
    {
     "data": {
      "text/plain": [
       "2     508860\n",
       "3     217174\n",
       "4      86034\n",
       "1      75268\n",
       "5      53790\n",
       "0      16677\n",
       "6      15580\n",
       "7       9092\n",
       "8       5807\n",
       "9       4035\n",
       "10      2567\n",
       "11      1703\n",
       "12      1121\n",
       "13       853\n",
       "14       507\n",
       "15       374\n",
       "16       191\n",
       "17       131\n",
       "18        92\n",
       "19        58\n",
       "20        38\n",
       "21        14\n",
       "22        14\n",
       "24         5\n",
       "25         4\n",
       "26         3\n",
       "23         3\n",
       "27         2\n",
       "29         1\n",
       "33         1\n",
       "28         1\n",
       "Name: text_obj_skt, dtype: int64"
      ]
     },
     "execution_count": 44,
     "metadata": {},
     "output_type": "execute_result"
    }
   ],
   "source": [
    "df.text_obj_skt.apply(len).value_counts()"
   ]
  },
  {
   "cell_type": "code",
   "execution_count": null,
   "metadata": {
    "colab": {
     "base_uri": "https://localhost:8080/"
    },
    "executionInfo": {
     "elapsed": 835,
     "status": "ok",
     "timestamp": 1647601183291,
     "user": {
      "displayName": "bae CHO",
      "photoUrl": "https://lh3.googleusercontent.com/a/default-user=s64",
      "userId": "10400954908632605816"
     },
     "user_tz": -540
    },
    "id": "55Cw3AUjrcPh",
    "outputId": "a15276b6-fad2-4b84-d959-ed893475120a"
   },
   "outputs": [
    {
     "data": {
      "text/plain": [
       "3     285968\n",
       "4     228448\n",
       "2     194117\n",
       "5      86119\n",
       "6      76793\n",
       "0      43619\n",
       "1      39528\n",
       "7      19246\n",
       "8      11515\n",
       "9       7307\n",
       "10      2892\n",
       "11      1766\n",
       "12      1053\n",
       "13       614\n",
       "14       352\n",
       "15       215\n",
       "16       156\n",
       "17       102\n",
       "18        65\n",
       "19        34\n",
       "20        30\n",
       "21        17\n",
       "23        16\n",
       "22        13\n",
       "24         4\n",
       "25         3\n",
       "26         3\n",
       "30         2\n",
       "27         1\n",
       "34         1\n",
       "28         1\n",
       "Name: text_mthd_skt, dtype: int64"
      ]
     },
     "execution_count": 47,
     "metadata": {},
     "output_type": "execute_result"
    }
   ],
   "source": [
    "df.text_mthd_skt.apply(len).value_counts()"
   ]
  },
  {
   "cell_type": "markdown",
   "metadata": {
    "id": "9a89K_UY1Fg6"
   },
   "source": [
    "# Tokenizer"
   ]
  },
  {
   "cell_type": "code",
   "execution_count": 102,
   "metadata": {
    "executionInfo": {
     "elapsed": 230,
     "status": "ok",
     "timestamp": 1647960718735,
     "user": {
      "displayName": "bae CHO",
      "photoUrl": "https://lh3.googleusercontent.com/a/default-user=s64",
      "userId": "10400954908632605816"
     },
     "user_tz": -540
    },
    "id": "dk7y2KAh2MhX"
   },
   "outputs": [],
   "source": [
    "class DealTokenizer:\n",
    "  def __init__(self, pre_tokens='data/pre_toks_220321_4.csv'):\n",
    "    self.changer = {'a/s':' 수리 ', '써비스':'서비스', '짜장면':'자장면', '제단':'재단', '맛사지':'마사지', '마시지': '마사지', '프라스틱':'플라스틱', '돌보미':'돌봄'}\n",
    "    self.separators = ['+', '-', '[', ']', '>', '<', '/', 'ㆍ',':', ';', '?', '？', '&', ',', '，', '.', '．', '(', ')', '및']\n",
    "    self.pre_tokens = list(pd.read_csv(pre_tokens)['0'])\n",
    "    self.pre_tokens.sort(key=len, reverse=True)\n",
    "\n",
    "  def change(self, s: str) -> str:\n",
    "    for asis, tobe in self.changer.items():\n",
    "      s = s.replace(asis, tobe)\n",
    "    return s\n",
    "\n",
    "  def separate(self, s: str) -> str:\n",
    "    for seq in self.separators:\n",
    "      s = s.replace(seq, ' ')\n",
    "    return s\n",
    "  \n",
    "  def extract_pre_tokens(self, s: str) -> str:\n",
    "    for token in self.pre_tokens:\n",
    "      s = s.replace(token, f' {token} ')\n",
    "    return s\n",
    "\n",
    "  def replace(self, s: str) -> str:\n",
    "    return self.extract_pre_tokens(self.separate(self.change(s)))\n",
    "\n",
    "  def tokenize(self, s: str) -> List[str]:\n",
    "    return self.replace(s).split() if s is not np.nan else []\n"
   ]
  },
  {
   "cell_type": "markdown",
   "metadata": {
    "id": "Rnl9l10dI7DE"
   },
   "source": [
    "## Default"
   ]
  },
  {
   "cell_type": "code",
   "execution_count": null,
   "metadata": {
    "id": "4lBWWPcd7Vb-"
   },
   "outputs": [],
   "source": [
    "tokenizer = DealTokenizer()"
   ]
  },
  {
   "cell_type": "code",
   "execution_count": null,
   "metadata": {
    "id": "6iv1Czfe7ZyM"
   },
   "outputs": [],
   "source": [
    "toks = df.text_deal.apply(tokenizer.tokenize)"
   ]
  },
  {
   "cell_type": "code",
   "execution_count": null,
   "metadata": {
    "colab": {
     "base_uri": "https://localhost:8080/"
    },
    "executionInfo": {
     "elapsed": 387,
     "status": "ok",
     "timestamp": 1647791386284,
     "user": {
      "displayName": "bae CHO",
      "photoUrl": "https://lh3.googleusercontent.com/a/default-user=s64",
      "userId": "10400954908632605816"
     },
     "user_tz": -540
    },
    "id": "KLk055aa7kLr",
    "outputId": "7b03c890-f00f-481d-bc15-fba3b532f135"
   },
   "outputs": [
    {
     "data": {
      "text/plain": [
       "AI_id\n",
       "id_0000001      [타이어, 오일, 교환]\n",
       "id_0000002       [채소, 과일, 판매]\n",
       "id_0000003     [합성, 고, 무도, 매]\n",
       "id_0000004     [열, 쇠, 잠금, 장치]\n",
       "id_0000005      [취학전, 아동, 보육]\n",
       "                   ...       \n",
       "id_0999996        [청, 바지, 워싱]\n",
       "id_0999997         [실내, 인테리어]\n",
       "id_0999998     [여성, 의, 류, 판매]\n",
       "id_0999999             [필라테스]\n",
       "id_1000000    [한식, 미역, 구, 판매]\n",
       "Name: text_deal, Length: 1000000, dtype: object"
      ]
     },
     "execution_count": 63,
     "metadata": {},
     "output_type": "execute_result"
    }
   ],
   "source": [
    "toks"
   ]
  },
  {
   "cell_type": "code",
   "execution_count": null,
   "metadata": {
    "id": "wedPiImxAIJo"
   },
   "outputs": [],
   "source": [
    "toks.to_csv('data/toks_test.csv')"
   ]
  },
  {
   "cell_type": "code",
   "execution_count": null,
   "metadata": {
    "id": "PwE-cZW6IhiW"
   },
   "outputs": [],
   "source": [
    "mthd_toks = df.text_mthd.apply(tokenizer.tokenize)"
   ]
  },
  {
   "cell_type": "code",
   "execution_count": null,
   "metadata": {
    "id": "nnXJWopaIuCY"
   },
   "outputs": [],
   "source": [
    "mthd_toks.to_csv('data/mthd_toks_test.csv')"
   ]
  },
  {
   "cell_type": "code",
   "execution_count": null,
   "metadata": {
    "id": "8KhTBfHq8Wa5"
   },
   "outputs": [],
   "source": [
    "toks = toks.explode().value_counts()"
   ]
  },
  {
   "cell_type": "code",
   "execution_count": null,
   "metadata": {
    "colab": {
     "base_uri": "https://localhost:8080/"
    },
    "executionInfo": {
     "elapsed": 338,
     "status": "ok",
     "timestamp": 1647622841602,
     "user": {
      "displayName": "bae CHO",
      "photoUrl": "https://lh3.googleusercontent.com/a/default-user=s64",
      "userId": "10400954908632605816"
     },
     "user_tz": -540
    },
    "id": "jRO3KQ_I8q6e",
    "outputId": "c0ea91e7-4732-4963-dabd-a1d0f04bb134"
   },
   "outputs": [
    {
     "data": {
      "text/plain": [
       "서비스     174101\n",
       "판매      103486\n",
       "운송       88627\n",
       "제공       49587\n",
       "화물       47635\n",
       "         ...  \n",
       "로또복권       101\n",
       "냉동기        101\n",
       "발레         101\n",
       "내부         101\n",
       "장치         101\n",
       "Name: text_deal, Length: 1610, dtype: int64"
      ]
     },
     "execution_count": 21,
     "metadata": {},
     "output_type": "execute_result"
    }
   ],
   "source": [
    "toks[toks > 100]"
   ]
  },
  {
   "cell_type": "code",
   "execution_count": null,
   "metadata": {
    "id": "6ZXNYyxMD1SX"
   },
   "outputs": [],
   "source": [
    "toks.to_csv('data/toks_v1.csv')"
   ]
  },
  {
   "cell_type": "markdown",
   "metadata": {
    "id": "51Nnu6owI-8J"
   },
   "source": [
    "## Add pre_toks"
   ]
  },
  {
   "cell_type": "code",
   "execution_count": null,
   "metadata": {
    "id": "FThdzLeT-WEh"
   },
   "outputs": [],
   "source": [
    "pre_toks = list(toks[toks > 100].index)"
   ]
  },
  {
   "cell_type": "code",
   "execution_count": null,
   "metadata": {
    "id": "970R5Qpe_5Ol"
   },
   "outputs": [],
   "source": [
    "tokenizer.pre_tokens += pre_toks"
   ]
  },
  {
   "cell_type": "code",
   "execution_count": null,
   "metadata": {
    "id": "eLE-fKNN__Tz"
   },
   "outputs": [],
   "source": [
    "new_toks = df.text_deal.apply(tokenizer.tokenize).explode().value_counts()"
   ]
  },
  {
   "cell_type": "code",
   "execution_count": null,
   "metadata": {
    "colab": {
     "base_uri": "https://localhost:8080/"
    },
    "executionInfo": {
     "elapsed": 273,
     "status": "ok",
     "timestamp": 1647623822097,
     "user": {
      "displayName": "bae CHO",
      "photoUrl": "https://lh3.googleusercontent.com/a/default-user=s64",
      "userId": "10400954908632605816"
     },
     "user_tz": -540
    },
    "id": "1kNJ6UV6ALlP",
    "outputId": "f1e6196a-e952-4a50-85f2-e53c4caee65b"
   },
   "outputs": [
    {
     "data": {
      "text/plain": [
       "서비스       174101\n",
       "판매        103486\n",
       "운송         88627\n",
       "기          86702\n",
       "물          81425\n",
       "           ...  \n",
       "규결화한           1\n",
       "노동자이익향         1\n",
       "봉투만듬           1\n",
       "대생             1\n",
       "양채류-양          1\n",
       "Name: text_deal, Length: 30583, dtype: int64"
      ]
     },
     "execution_count": 31,
     "metadata": {},
     "output_type": "execute_result"
    }
   ],
   "source": [
    "new_toks"
   ]
  },
  {
   "cell_type": "code",
   "execution_count": null,
   "metadata": {
    "id": "kZtK_wNdCFWh"
   },
   "outputs": [],
   "source": [
    "new_toks.to_csv('data/toks_v2.csv')"
   ]
  },
  {
   "cell_type": "code",
   "execution_count": null,
   "metadata": {
    "id": "5ve6RCyWEL4V"
   },
   "outputs": [],
   "source": []
  },
  {
   "cell_type": "markdown",
   "metadata": {
    "id": "f6oGptebJDp1"
   },
   "source": [
    "## Refine pre_toks"
   ]
  },
  {
   "cell_type": "code",
   "execution_count": null,
   "metadata": {
    "id": "qxa7MpjgJHT-"
   },
   "outputs": [],
   "source": [
    "pre_toks = pd.read_csv('data/toks_v3.csv')"
   ]
  },
  {
   "cell_type": "code",
   "execution_count": null,
   "metadata": {
    "id": "eYaS35YvJObj"
   },
   "outputs": [],
   "source": [
    "pre_toks = list(pre_toks.token)"
   ]
  },
  {
   "cell_type": "code",
   "execution_count": null,
   "metadata": {
    "id": "jHeEZNj3M2AO"
   },
   "outputs": [],
   "source": [
    "tokenizer = DealTokenizer()"
   ]
  },
  {
   "cell_type": "code",
   "execution_count": null,
   "metadata": {
    "id": "d_m_nNSrJPoH"
   },
   "outputs": [],
   "source": [
    "tokenizer.pre_tokens += pre_toks"
   ]
  },
  {
   "cell_type": "code",
   "execution_count": null,
   "metadata": {
    "id": "B70YzCGcJbL0"
   },
   "outputs": [],
   "source": [
    "new_toks = df.text_deal.apply(tokenizer.tokenize).explode().value_counts()"
   ]
  },
  {
   "cell_type": "code",
   "execution_count": null,
   "metadata": {
    "colab": {
     "base_uri": "https://localhost:8080/"
    },
    "executionInfo": {
     "elapsed": 302,
     "status": "ok",
     "timestamp": 1647709964009,
     "user": {
      "displayName": "bae CHO",
      "photoUrl": "https://lh3.googleusercontent.com/a/default-user=s64",
      "userId": "10400954908632605816"
     },
     "user_tz": -540
    },
    "id": "-RldDtT7Kqtr",
    "outputId": "1d372844-492c-48cc-90d0-b2063c5184ac"
   },
   "outputs": [
    {
     "data": {
      "text/plain": [
       "서비스         174101\n",
       "판매          103486\n",
       "운송           88627\n",
       "제공           49587\n",
       "화물           49197\n",
       "             ...  \n",
       "모니터사용설명서         1\n",
       "돼고고기             1\n",
       "푸전               1\n",
       "SPINDLE          1\n",
       "용매트리스            1\n",
       "Name: text_deal, Length: 43696, dtype: int64"
      ]
     },
     "execution_count": 14,
     "metadata": {},
     "output_type": "execute_result"
    }
   ],
   "source": [
    "new_toks"
   ]
  },
  {
   "cell_type": "code",
   "execution_count": null,
   "metadata": {
    "id": "dPjFx-ryJelU"
   },
   "outputs": [],
   "source": [
    "new_toks.to_csv('data/tokes_v4.csv')"
   ]
  },
  {
   "cell_type": "code",
   "execution_count": null,
   "metadata": {
    "id": "BK3hotgHKfSc"
   },
   "outputs": [],
   "source": []
  },
  {
   "cell_type": "markdown",
   "metadata": {
    "id": "kEUMTPfGLe6S"
   },
   "source": [
    "## Use industial class"
   ]
  },
  {
   "cell_type": "code",
   "execution_count": null,
   "metadata": {
    "id": "7sIE-uA4Ljc8"
   },
   "outputs": [],
   "source": [
    "df_class = pd.read_csv('data/ind_class.csv')"
   ]
  },
  {
   "cell_type": "code",
   "execution_count": null,
   "metadata": {
    "colab": {
     "base_uri": "https://localhost:8080/",
     "height": 514
    },
    "executionInfo": {
     "elapsed": 303,
     "status": "ok",
     "timestamp": 1647710439349,
     "user": {
      "displayName": "bae CHO",
      "photoUrl": "https://lh3.googleusercontent.com/a/default-user=s64",
      "userId": "10400954908632605816"
     },
     "user_tz": -540
    },
    "id": "mqZ8_ENIMfXM",
    "outputId": "9d6e456e-5b34-43a4-afac-c2ed685c9a8e"
   },
   "outputs": [
    {
     "data": {
      "text/html": [
       "\n",
       "  <div id=\"df-e0c21ec2-bb75-4017-8faf-e6c94c0d5fc2\">\n",
       "    <div class=\"colab-df-container\">\n",
       "      <div>\n",
       "<style scoped>\n",
       "    .dataframe tbody tr th:only-of-type {\n",
       "        vertical-align: middle;\n",
       "    }\n",
       "\n",
       "    .dataframe tbody tr th {\n",
       "        vertical-align: top;\n",
       "    }\n",
       "\n",
       "    .dataframe thead th {\n",
       "        text-align: right;\n",
       "    }\n",
       "</style>\n",
       "<table border=\"1\" class=\"dataframe\">\n",
       "  <thead>\n",
       "    <tr style=\"text-align: right;\">\n",
       "      <th></th>\n",
       "      <th>col1</th>\n",
       "      <th>col2</th>\n",
       "      <th>col3</th>\n",
       "      <th>col4</th>\n",
       "    </tr>\n",
       "  </thead>\n",
       "  <tbody>\n",
       "    <tr>\n",
       "      <th>0</th>\n",
       "      <td>농업</td>\n",
       "      <td>작물 재배업</td>\n",
       "      <td>곡물 및 기타 식량작물 재배업</td>\n",
       "      <td>곡물 및 기타 식량작물 재배업</td>\n",
       "    </tr>\n",
       "    <tr>\n",
       "      <th>1</th>\n",
       "      <td>NaN</td>\n",
       "      <td>NaN</td>\n",
       "      <td>채소, 화훼작물 및 종묘 재배업</td>\n",
       "      <td>채소작물 재배업</td>\n",
       "    </tr>\n",
       "    <tr>\n",
       "      <th>2</th>\n",
       "      <td>NaN</td>\n",
       "      <td>NaN</td>\n",
       "      <td>NaN</td>\n",
       "      <td>화훼작물 재배업</td>\n",
       "    </tr>\n",
       "    <tr>\n",
       "      <th>3</th>\n",
       "      <td>NaN</td>\n",
       "      <td>NaN</td>\n",
       "      <td>NaN</td>\n",
       "      <td>종자 및 묘목 생산업</td>\n",
       "    </tr>\n",
       "    <tr>\n",
       "      <th>4</th>\n",
       "      <td>NaN</td>\n",
       "      <td>NaN</td>\n",
       "      <td>과실, 음료용 및 향신용 작물 재배업</td>\n",
       "      <td>과실작물 재배업</td>\n",
       "    </tr>\n",
       "    <tr>\n",
       "      <th>...</th>\n",
       "      <td>...</td>\n",
       "      <td>...</td>\n",
       "      <td>...</td>\n",
       "      <td>...</td>\n",
       "    </tr>\n",
       "    <tr>\n",
       "      <th>1192</th>\n",
       "      <td>가구 내 고용활동</td>\n",
       "      <td>가구 내 고용활동</td>\n",
       "      <td>가구 내 고용활동</td>\n",
       "      <td>가구 내 고용활동</td>\n",
       "    </tr>\n",
       "    <tr>\n",
       "      <th>1193</th>\n",
       "      <td>달리 분류되지 않은 자가 소비를 위한 가구의 재화 및 서비스 생산활동</td>\n",
       "      <td>자가 소비를 위한 가사 생산 활동</td>\n",
       "      <td>자가 소비를 위한 가사 생산 활동</td>\n",
       "      <td>자가 소비를 위한 가사 생산 활동</td>\n",
       "    </tr>\n",
       "    <tr>\n",
       "      <th>1194</th>\n",
       "      <td>NaN</td>\n",
       "      <td>자가 소비를 위한 가사 서비스 활동</td>\n",
       "      <td>자가 소비를 위한 가사 서비스 활동</td>\n",
       "      <td>자가 소비를 위한 가사 서비스 활동</td>\n",
       "    </tr>\n",
       "    <tr>\n",
       "      <th>1195</th>\n",
       "      <td>국제 및 외국기관</td>\n",
       "      <td>국제 및 외국기관</td>\n",
       "      <td>국제 및 외국기관</td>\n",
       "      <td>주한 외국 공관</td>\n",
       "    </tr>\n",
       "    <tr>\n",
       "      <th>1196</th>\n",
       "      <td>NaN</td>\n",
       "      <td>NaN</td>\n",
       "      <td>NaN</td>\n",
       "      <td>기타 국제 및 외국기관</td>\n",
       "    </tr>\n",
       "  </tbody>\n",
       "</table>\n",
       "<p>1197 rows × 4 columns</p>\n",
       "</div>\n",
       "      <button class=\"colab-df-convert\" onclick=\"convertToInteractive('df-e0c21ec2-bb75-4017-8faf-e6c94c0d5fc2')\"\n",
       "              title=\"Convert this dataframe to an interactive table.\"\n",
       "              style=\"display:none;\">\n",
       "        \n",
       "  <svg xmlns=\"http://www.w3.org/2000/svg\" height=\"24px\"viewBox=\"0 0 24 24\"\n",
       "       width=\"24px\">\n",
       "    <path d=\"M0 0h24v24H0V0z\" fill=\"none\"/>\n",
       "    <path d=\"M18.56 5.44l.94 2.06.94-2.06 2.06-.94-2.06-.94-.94-2.06-.94 2.06-2.06.94zm-11 1L8.5 8.5l.94-2.06 2.06-.94-2.06-.94L8.5 2.5l-.94 2.06-2.06.94zm10 10l.94 2.06.94-2.06 2.06-.94-2.06-.94-.94-2.06-.94 2.06-2.06.94z\"/><path d=\"M17.41 7.96l-1.37-1.37c-.4-.4-.92-.59-1.43-.59-.52 0-1.04.2-1.43.59L10.3 9.45l-7.72 7.72c-.78.78-.78 2.05 0 2.83L4 21.41c.39.39.9.59 1.41.59.51 0 1.02-.2 1.41-.59l7.78-7.78 2.81-2.81c.8-.78.8-2.07 0-2.86zM5.41 20L4 18.59l7.72-7.72 1.47 1.35L5.41 20z\"/>\n",
       "  </svg>\n",
       "      </button>\n",
       "      \n",
       "  <style>\n",
       "    .colab-df-container {\n",
       "      display:flex;\n",
       "      flex-wrap:wrap;\n",
       "      gap: 12px;\n",
       "    }\n",
       "\n",
       "    .colab-df-convert {\n",
       "      background-color: #E8F0FE;\n",
       "      border: none;\n",
       "      border-radius: 50%;\n",
       "      cursor: pointer;\n",
       "      display: none;\n",
       "      fill: #1967D2;\n",
       "      height: 32px;\n",
       "      padding: 0 0 0 0;\n",
       "      width: 32px;\n",
       "    }\n",
       "\n",
       "    .colab-df-convert:hover {\n",
       "      background-color: #E2EBFA;\n",
       "      box-shadow: 0px 1px 2px rgba(60, 64, 67, 0.3), 0px 1px 3px 1px rgba(60, 64, 67, 0.15);\n",
       "      fill: #174EA6;\n",
       "    }\n",
       "\n",
       "    [theme=dark] .colab-df-convert {\n",
       "      background-color: #3B4455;\n",
       "      fill: #D2E3FC;\n",
       "    }\n",
       "\n",
       "    [theme=dark] .colab-df-convert:hover {\n",
       "      background-color: #434B5C;\n",
       "      box-shadow: 0px 1px 3px 1px rgba(0, 0, 0, 0.15);\n",
       "      filter: drop-shadow(0px 1px 2px rgba(0, 0, 0, 0.3));\n",
       "      fill: #FFFFFF;\n",
       "    }\n",
       "  </style>\n",
       "\n",
       "      <script>\n",
       "        const buttonEl =\n",
       "          document.querySelector('#df-e0c21ec2-bb75-4017-8faf-e6c94c0d5fc2 button.colab-df-convert');\n",
       "        buttonEl.style.display =\n",
       "          google.colab.kernel.accessAllowed ? 'block' : 'none';\n",
       "\n",
       "        async function convertToInteractive(key) {\n",
       "          const element = document.querySelector('#df-e0c21ec2-bb75-4017-8faf-e6c94c0d5fc2');\n",
       "          const dataTable =\n",
       "            await google.colab.kernel.invokeFunction('convertToInteractive',\n",
       "                                                     [key], {});\n",
       "          if (!dataTable) return;\n",
       "\n",
       "          const docLinkHtml = 'Like what you see? Visit the ' +\n",
       "            '<a target=\"_blank\" href=https://colab.research.google.com/notebooks/data_table.ipynb>data table notebook</a>'\n",
       "            + ' to learn more about interactive tables.';\n",
       "          element.innerHTML = '';\n",
       "          dataTable['output_type'] = 'display_data';\n",
       "          await google.colab.output.renderOutput(dataTable, element);\n",
       "          const docLink = document.createElement('div');\n",
       "          docLink.innerHTML = docLinkHtml;\n",
       "          element.appendChild(docLink);\n",
       "        }\n",
       "      </script>\n",
       "    </div>\n",
       "  </div>\n",
       "  "
      ],
      "text/plain": [
       "                                        col1                 col2  \\\n",
       "0                                         농업               작물 재배업   \n",
       "1                                        NaN                  NaN   \n",
       "2                                        NaN                  NaN   \n",
       "3                                        NaN                  NaN   \n",
       "4                                        NaN                  NaN   \n",
       "...                                      ...                  ...   \n",
       "1192                               가구 내 고용활동            가구 내 고용활동   \n",
       "1193  달리 분류되지 않은 자가 소비를 위한 가구의 재화 및 서비스 생산활동   자가 소비를 위한 가사 생산 활동   \n",
       "1194                                     NaN  자가 소비를 위한 가사 서비스 활동   \n",
       "1195                               국제 및 외국기관            국제 및 외국기관   \n",
       "1196                                     NaN                  NaN   \n",
       "\n",
       "                      col3                 col4  \n",
       "0         곡물 및 기타 식량작물 재배업     곡물 및 기타 식량작물 재배업  \n",
       "1        채소, 화훼작물 및 종묘 재배업             채소작물 재배업  \n",
       "2                      NaN             화훼작물 재배업  \n",
       "3                      NaN          종자 및 묘목 생산업  \n",
       "4     과실, 음료용 및 향신용 작물 재배업             과실작물 재배업  \n",
       "...                    ...                  ...  \n",
       "1192             가구 내 고용활동            가구 내 고용활동  \n",
       "1193    자가 소비를 위한 가사 생산 활동   자가 소비를 위한 가사 생산 활동  \n",
       "1194   자가 소비를 위한 가사 서비스 활동  자가 소비를 위한 가사 서비스 활동  \n",
       "1195             국제 및 외국기관             주한 외국 공관  \n",
       "1196                   NaN         기타 국제 및 외국기관  \n",
       "\n",
       "[1197 rows x 4 columns]"
      ]
     },
     "execution_count": 24,
     "metadata": {},
     "output_type": "execute_result"
    }
   ],
   "source": [
    "df_class"
   ]
  },
  {
   "cell_type": "code",
   "execution_count": null,
   "metadata": {
    "id": "0P91Y7tSL4R0"
   },
   "outputs": [],
   "source": [
    "cs = list(df_class.col1.dropna()) + list(df_class.col2.dropna()) + list(df_class.col3.dropna()) + list(df_class.col4.dropna())"
   ]
  },
  {
   "cell_type": "code",
   "execution_count": null,
   "metadata": {
    "id": "eEaWfjLjL5kC"
   },
   "outputs": [],
   "source": [
    "df_class = pd.DataFrame(cs)"
   ]
  },
  {
   "cell_type": "code",
   "execution_count": null,
   "metadata": {
    "colab": {
     "base_uri": "https://localhost:8080/",
     "height": 419
    },
    "executionInfo": {
     "elapsed": 8,
     "status": "ok",
     "timestamp": 1647710456385,
     "user": {
      "displayName": "bae CHO",
      "photoUrl": "https://lh3.googleusercontent.com/a/default-user=s64",
      "userId": "10400954908632605816"
     },
     "user_tz": -540
    },
    "id": "LVDOXQdcMHI2",
    "outputId": "7e6ebd76-ddd9-4889-939d-60d0ed83d048"
   },
   "outputs": [
    {
     "data": {
      "text/html": [
       "\n",
       "  <div id=\"df-786475b7-6358-437b-b056-6aa96c1eb55d\">\n",
       "    <div class=\"colab-df-container\">\n",
       "      <div>\n",
       "<style scoped>\n",
       "    .dataframe tbody tr th:only-of-type {\n",
       "        vertical-align: middle;\n",
       "    }\n",
       "\n",
       "    .dataframe tbody tr th {\n",
       "        vertical-align: top;\n",
       "    }\n",
       "\n",
       "    .dataframe thead th {\n",
       "        text-align: right;\n",
       "    }\n",
       "</style>\n",
       "<table border=\"1\" class=\"dataframe\">\n",
       "  <thead>\n",
       "    <tr style=\"text-align: right;\">\n",
       "      <th></th>\n",
       "      <th>0</th>\n",
       "    </tr>\n",
       "  </thead>\n",
       "  <tbody>\n",
       "    <tr>\n",
       "      <th>0</th>\n",
       "      <td>농업</td>\n",
       "    </tr>\n",
       "    <tr>\n",
       "      <th>1</th>\n",
       "      <td>임업</td>\n",
       "    </tr>\n",
       "    <tr>\n",
       "      <th>2</th>\n",
       "      <td>어업</td>\n",
       "    </tr>\n",
       "    <tr>\n",
       "      <th>3</th>\n",
       "      <td>석탄, 원유 및 천연가스 광업</td>\n",
       "    </tr>\n",
       "    <tr>\n",
       "      <th>4</th>\n",
       "      <td>금속 광업</td>\n",
       "    </tr>\n",
       "    <tr>\n",
       "      <th>...</th>\n",
       "      <td>...</td>\n",
       "    </tr>\n",
       "    <tr>\n",
       "      <th>1995</th>\n",
       "      <td>가구 내 고용활동</td>\n",
       "    </tr>\n",
       "    <tr>\n",
       "      <th>1996</th>\n",
       "      <td>자가 소비를 위한 가사 생산 활동</td>\n",
       "    </tr>\n",
       "    <tr>\n",
       "      <th>1997</th>\n",
       "      <td>자가 소비를 위한 가사 서비스 활동</td>\n",
       "    </tr>\n",
       "    <tr>\n",
       "      <th>1998</th>\n",
       "      <td>주한 외국 공관</td>\n",
       "    </tr>\n",
       "    <tr>\n",
       "      <th>1999</th>\n",
       "      <td>기타 국제 및 외국기관</td>\n",
       "    </tr>\n",
       "  </tbody>\n",
       "</table>\n",
       "<p>2000 rows × 1 columns</p>\n",
       "</div>\n",
       "      <button class=\"colab-df-convert\" onclick=\"convertToInteractive('df-786475b7-6358-437b-b056-6aa96c1eb55d')\"\n",
       "              title=\"Convert this dataframe to an interactive table.\"\n",
       "              style=\"display:none;\">\n",
       "        \n",
       "  <svg xmlns=\"http://www.w3.org/2000/svg\" height=\"24px\"viewBox=\"0 0 24 24\"\n",
       "       width=\"24px\">\n",
       "    <path d=\"M0 0h24v24H0V0z\" fill=\"none\"/>\n",
       "    <path d=\"M18.56 5.44l.94 2.06.94-2.06 2.06-.94-2.06-.94-.94-2.06-.94 2.06-2.06.94zm-11 1L8.5 8.5l.94-2.06 2.06-.94-2.06-.94L8.5 2.5l-.94 2.06-2.06.94zm10 10l.94 2.06.94-2.06 2.06-.94-2.06-.94-.94-2.06-.94 2.06-2.06.94z\"/><path d=\"M17.41 7.96l-1.37-1.37c-.4-.4-.92-.59-1.43-.59-.52 0-1.04.2-1.43.59L10.3 9.45l-7.72 7.72c-.78.78-.78 2.05 0 2.83L4 21.41c.39.39.9.59 1.41.59.51 0 1.02-.2 1.41-.59l7.78-7.78 2.81-2.81c.8-.78.8-2.07 0-2.86zM5.41 20L4 18.59l7.72-7.72 1.47 1.35L5.41 20z\"/>\n",
       "  </svg>\n",
       "      </button>\n",
       "      \n",
       "  <style>\n",
       "    .colab-df-container {\n",
       "      display:flex;\n",
       "      flex-wrap:wrap;\n",
       "      gap: 12px;\n",
       "    }\n",
       "\n",
       "    .colab-df-convert {\n",
       "      background-color: #E8F0FE;\n",
       "      border: none;\n",
       "      border-radius: 50%;\n",
       "      cursor: pointer;\n",
       "      display: none;\n",
       "      fill: #1967D2;\n",
       "      height: 32px;\n",
       "      padding: 0 0 0 0;\n",
       "      width: 32px;\n",
       "    }\n",
       "\n",
       "    .colab-df-convert:hover {\n",
       "      background-color: #E2EBFA;\n",
       "      box-shadow: 0px 1px 2px rgba(60, 64, 67, 0.3), 0px 1px 3px 1px rgba(60, 64, 67, 0.15);\n",
       "      fill: #174EA6;\n",
       "    }\n",
       "\n",
       "    [theme=dark] .colab-df-convert {\n",
       "      background-color: #3B4455;\n",
       "      fill: #D2E3FC;\n",
       "    }\n",
       "\n",
       "    [theme=dark] .colab-df-convert:hover {\n",
       "      background-color: #434B5C;\n",
       "      box-shadow: 0px 1px 3px 1px rgba(0, 0, 0, 0.15);\n",
       "      filter: drop-shadow(0px 1px 2px rgba(0, 0, 0, 0.3));\n",
       "      fill: #FFFFFF;\n",
       "    }\n",
       "  </style>\n",
       "\n",
       "      <script>\n",
       "        const buttonEl =\n",
       "          document.querySelector('#df-786475b7-6358-437b-b056-6aa96c1eb55d button.colab-df-convert');\n",
       "        buttonEl.style.display =\n",
       "          google.colab.kernel.accessAllowed ? 'block' : 'none';\n",
       "\n",
       "        async function convertToInteractive(key) {\n",
       "          const element = document.querySelector('#df-786475b7-6358-437b-b056-6aa96c1eb55d');\n",
       "          const dataTable =\n",
       "            await google.colab.kernel.invokeFunction('convertToInteractive',\n",
       "                                                     [key], {});\n",
       "          if (!dataTable) return;\n",
       "\n",
       "          const docLinkHtml = 'Like what you see? Visit the ' +\n",
       "            '<a target=\"_blank\" href=https://colab.research.google.com/notebooks/data_table.ipynb>data table notebook</a>'\n",
       "            + ' to learn more about interactive tables.';\n",
       "          element.innerHTML = '';\n",
       "          dataTable['output_type'] = 'display_data';\n",
       "          await google.colab.output.renderOutput(dataTable, element);\n",
       "          const docLink = document.createElement('div');\n",
       "          docLink.innerHTML = docLinkHtml;\n",
       "          element.appendChild(docLink);\n",
       "        }\n",
       "      </script>\n",
       "    </div>\n",
       "  </div>\n",
       "  "
      ],
      "text/plain": [
       "                        0\n",
       "0                      농업\n",
       "1                      임업\n",
       "2                      어업\n",
       "3        석탄, 원유 및 천연가스 광업\n",
       "4                   금속 광업\n",
       "...                   ...\n",
       "1995            가구 내 고용활동\n",
       "1996   자가 소비를 위한 가사 생산 활동\n",
       "1997  자가 소비를 위한 가사 서비스 활동\n",
       "1998             주한 외국 공관\n",
       "1999         기타 국제 및 외국기관\n",
       "\n",
       "[2000 rows x 1 columns]"
      ]
     },
     "execution_count": 27,
     "metadata": {},
     "output_type": "execute_result"
    }
   ],
   "source": [
    "df_class"
   ]
  },
  {
   "cell_type": "code",
   "execution_count": null,
   "metadata": {
    "id": "h_CMZ21DMONO"
   },
   "outputs": [],
   "source": [
    "tokenizer = DealTokenizer()"
   ]
  },
  {
   "cell_type": "code",
   "execution_count": null,
   "metadata": {
    "id": "UakfpGqWM3zK"
   },
   "outputs": [],
   "source": [
    "toks = df_class[0].apply(tokenizer.tokenize).explode().value_counts()"
   ]
  },
  {
   "cell_type": "code",
   "execution_count": null,
   "metadata": {
    "colab": {
     "base_uri": "https://localhost:8080/"
    },
    "executionInfo": {
     "elapsed": 284,
     "status": "ok",
     "timestamp": 1647711498678,
     "user": {
      "displayName": "bae CHO",
      "photoUrl": "https://lh3.googleusercontent.com/a/default-user=s64",
      "userId": "10400954908632605816"
     },
     "user_tz": -540
    },
    "id": "YVSxazPeQifj",
    "outputId": "58857cd6-fb1a-4cee-c3ba-cceb183520fa"
   },
   "outputs": [
    {
     "data": {
      "text/plain": [
       "업       1221\n",
       "제조       688\n",
       "기타       359\n",
       "제품       189\n",
       "서비스      159\n",
       "        ... \n",
       "너트류        1\n",
       "나사         1\n",
       "캔          1\n",
       "포장용기       1\n",
       "공관         1\n",
       "Name: 0, Length: 1551, dtype: int64"
      ]
     },
     "execution_count": 37,
     "metadata": {},
     "output_type": "execute_result"
    }
   ],
   "source": [
    "toks"
   ]
  },
  {
   "cell_type": "code",
   "execution_count": null,
   "metadata": {
    "id": "ZN1YTC0mNA8Z"
   },
   "outputs": [],
   "source": [
    "toks.to_csv('data/ind_class_toks.csv')"
   ]
  },
  {
   "cell_type": "markdown",
   "metadata": {
    "id": "PmoGbJdp3hxm"
   },
   "source": [
    "### Ver 2"
   ]
  },
  {
   "cell_type": "code",
   "execution_count": null,
   "metadata": {
    "colab": {
     "base_uri": "https://localhost:8080/",
     "height": 419
    },
    "executionInfo": {
     "elapsed": 347,
     "status": "ok",
     "timestamp": 1647788902486,
     "user": {
      "displayName": "bae CHO",
      "photoUrl": "https://lh3.googleusercontent.com/a/default-user=s64",
      "userId": "10400954908632605816"
     },
     "user_tz": -540
    },
    "id": "TcBUTCSZ3poU",
    "outputId": "93ed5e52-44b9-4c88-f6ba-f3ae1236a1ff"
   },
   "outputs": [
    {
     "data": {
      "text/html": [
       "\n",
       "  <div id=\"df-dd6221d7-6638-4df3-924d-56b6a4b757ca\">\n",
       "    <div class=\"colab-df-container\">\n",
       "      <div>\n",
       "<style scoped>\n",
       "    .dataframe tbody tr th:only-of-type {\n",
       "        vertical-align: middle;\n",
       "    }\n",
       "\n",
       "    .dataframe tbody tr th {\n",
       "        vertical-align: top;\n",
       "    }\n",
       "\n",
       "    .dataframe thead th {\n",
       "        text-align: right;\n",
       "    }\n",
       "</style>\n",
       "<table border=\"1\" class=\"dataframe\">\n",
       "  <thead>\n",
       "    <tr style=\"text-align: right;\">\n",
       "      <th></th>\n",
       "      <th>Column1</th>\n",
       "    </tr>\n",
       "  </thead>\n",
       "  <tbody>\n",
       "    <tr>\n",
       "      <th>0</th>\n",
       "      <td>제조</td>\n",
       "    </tr>\n",
       "    <tr>\n",
       "      <th>1</th>\n",
       "      <td>기타</td>\n",
       "    </tr>\n",
       "    <tr>\n",
       "      <th>2</th>\n",
       "      <td>제품</td>\n",
       "    </tr>\n",
       "    <tr>\n",
       "      <th>3</th>\n",
       "      <td>서비스</td>\n",
       "    </tr>\n",
       "    <tr>\n",
       "      <th>4</th>\n",
       "      <td>도매</td>\n",
       "    </tr>\n",
       "    <tr>\n",
       "      <th>...</th>\n",
       "      <td>...</td>\n",
       "    </tr>\n",
       "    <tr>\n",
       "      <th>1687</th>\n",
       "      <td>너트</td>\n",
       "    </tr>\n",
       "    <tr>\n",
       "      <th>1688</th>\n",
       "      <td>나사</td>\n",
       "    </tr>\n",
       "    <tr>\n",
       "      <th>1689</th>\n",
       "      <td>캔</td>\n",
       "    </tr>\n",
       "    <tr>\n",
       "      <th>1690</th>\n",
       "      <td>포장</td>\n",
       "    </tr>\n",
       "    <tr>\n",
       "      <th>1691</th>\n",
       "      <td>공관</td>\n",
       "    </tr>\n",
       "  </tbody>\n",
       "</table>\n",
       "<p>1692 rows × 1 columns</p>\n",
       "</div>\n",
       "      <button class=\"colab-df-convert\" onclick=\"convertToInteractive('df-dd6221d7-6638-4df3-924d-56b6a4b757ca')\"\n",
       "              title=\"Convert this dataframe to an interactive table.\"\n",
       "              style=\"display:none;\">\n",
       "        \n",
       "  <svg xmlns=\"http://www.w3.org/2000/svg\" height=\"24px\"viewBox=\"0 0 24 24\"\n",
       "       width=\"24px\">\n",
       "    <path d=\"M0 0h24v24H0V0z\" fill=\"none\"/>\n",
       "    <path d=\"M18.56 5.44l.94 2.06.94-2.06 2.06-.94-2.06-.94-.94-2.06-.94 2.06-2.06.94zm-11 1L8.5 8.5l.94-2.06 2.06-.94-2.06-.94L8.5 2.5l-.94 2.06-2.06.94zm10 10l.94 2.06.94-2.06 2.06-.94-2.06-.94-.94-2.06-.94 2.06-2.06.94z\"/><path d=\"M17.41 7.96l-1.37-1.37c-.4-.4-.92-.59-1.43-.59-.52 0-1.04.2-1.43.59L10.3 9.45l-7.72 7.72c-.78.78-.78 2.05 0 2.83L4 21.41c.39.39.9.59 1.41.59.51 0 1.02-.2 1.41-.59l7.78-7.78 2.81-2.81c.8-.78.8-2.07 0-2.86zM5.41 20L4 18.59l7.72-7.72 1.47 1.35L5.41 20z\"/>\n",
       "  </svg>\n",
       "      </button>\n",
       "      \n",
       "  <style>\n",
       "    .colab-df-container {\n",
       "      display:flex;\n",
       "      flex-wrap:wrap;\n",
       "      gap: 12px;\n",
       "    }\n",
       "\n",
       "    .colab-df-convert {\n",
       "      background-color: #E8F0FE;\n",
       "      border: none;\n",
       "      border-radius: 50%;\n",
       "      cursor: pointer;\n",
       "      display: none;\n",
       "      fill: #1967D2;\n",
       "      height: 32px;\n",
       "      padding: 0 0 0 0;\n",
       "      width: 32px;\n",
       "    }\n",
       "\n",
       "    .colab-df-convert:hover {\n",
       "      background-color: #E2EBFA;\n",
       "      box-shadow: 0px 1px 2px rgba(60, 64, 67, 0.3), 0px 1px 3px 1px rgba(60, 64, 67, 0.15);\n",
       "      fill: #174EA6;\n",
       "    }\n",
       "\n",
       "    [theme=dark] .colab-df-convert {\n",
       "      background-color: #3B4455;\n",
       "      fill: #D2E3FC;\n",
       "    }\n",
       "\n",
       "    [theme=dark] .colab-df-convert:hover {\n",
       "      background-color: #434B5C;\n",
       "      box-shadow: 0px 1px 3px 1px rgba(0, 0, 0, 0.15);\n",
       "      filter: drop-shadow(0px 1px 2px rgba(0, 0, 0, 0.3));\n",
       "      fill: #FFFFFF;\n",
       "    }\n",
       "  </style>\n",
       "\n",
       "      <script>\n",
       "        const buttonEl =\n",
       "          document.querySelector('#df-dd6221d7-6638-4df3-924d-56b6a4b757ca button.colab-df-convert');\n",
       "        buttonEl.style.display =\n",
       "          google.colab.kernel.accessAllowed ? 'block' : 'none';\n",
       "\n",
       "        async function convertToInteractive(key) {\n",
       "          const element = document.querySelector('#df-dd6221d7-6638-4df3-924d-56b6a4b757ca');\n",
       "          const dataTable =\n",
       "            await google.colab.kernel.invokeFunction('convertToInteractive',\n",
       "                                                     [key], {});\n",
       "          if (!dataTable) return;\n",
       "\n",
       "          const docLinkHtml = 'Like what you see? Visit the ' +\n",
       "            '<a target=\"_blank\" href=https://colab.research.google.com/notebooks/data_table.ipynb>data table notebook</a>'\n",
       "            + ' to learn more about interactive tables.';\n",
       "          element.innerHTML = '';\n",
       "          dataTable['output_type'] = 'display_data';\n",
       "          await google.colab.output.renderOutput(dataTable, element);\n",
       "          const docLink = document.createElement('div');\n",
       "          docLink.innerHTML = docLinkHtml;\n",
       "          element.appendChild(docLink);\n",
       "        }\n",
       "      </script>\n",
       "    </div>\n",
       "  </div>\n",
       "  "
      ],
      "text/plain": [
       "     Column1\n",
       "0         제조\n",
       "1         기타\n",
       "2         제품\n",
       "3        서비스\n",
       "4         도매\n",
       "...      ...\n",
       "1687      너트\n",
       "1688      나사\n",
       "1689       캔\n",
       "1690      포장\n",
       "1691      공관\n",
       "\n",
       "[1692 rows x 1 columns]"
      ]
     },
     "execution_count": 10,
     "metadata": {},
     "output_type": "execute_result"
    }
   ],
   "source": [
    "toks.Column1"
   ]
  },
  {
   "cell_type": "code",
   "execution_count": null,
   "metadata": {
    "id": "BwNtUcQw30Fb"
   },
   "outputs": [],
   "source": [
    "ind_class_toks = pd.read_csv('data/ind_class_toks.csv')"
   ]
  },
  {
   "cell_type": "code",
   "execution_count": null,
   "metadata": {
    "colab": {
     "base_uri": "https://localhost:8080/"
    },
    "executionInfo": {
     "elapsed": 10,
     "status": "ok",
     "timestamp": 1647791679725,
     "user": {
      "displayName": "bae CHO",
      "photoUrl": "https://lh3.googleusercontent.com/a/default-user=s64",
      "userId": "10400954908632605816"
     },
     "user_tz": -540
    },
    "id": "13apZZ3_CNvk",
    "outputId": "1d4b23cf-e77e-4320-a37b-48958964fd2a"
   },
   "outputs": [
    {
     "data": {
      "text/plain": [
       "False"
      ]
     },
     "execution_count": 70,
     "metadata": {},
     "output_type": "execute_result"
    }
   ],
   "source": [
    "'합성고무' in ind_class_toks['Unnamed: 0']"
   ]
  },
  {
   "cell_type": "code",
   "execution_count": null,
   "metadata": {
    "id": "j2ut1lJF4KT9"
   },
   "outputs": [],
   "source": [
    "compounds = []"
   ]
  },
  {
   "cell_type": "code",
   "execution_count": null,
   "metadata": {
    "id": "dLt3T0Ua3_vZ"
   },
   "outputs": [],
   "source": [
    "prefixes = ['비']\n",
    "subfixes = ['업', '류', '식', '품', '용', '물', '제', '학', '장', '방', '관', '화', '과', '기', '소', '점', '원', '터', '별', '교', '사']\n",
    "\n",
    "for t in ind_class_toks['Unnamed: 0']:\n",
    "  if len(t) < 2:\n",
    "    continue\n",
    "  \n",
    "  if sum(map(t.startswith, prefixes)) + sum(map(t.endswith, subfixes)) > 0:\n",
    "    compounds.append(t)\n",
    "\n"
   ]
  },
  {
   "cell_type": "code",
   "execution_count": null,
   "metadata": {
    "colab": {
     "base_uri": "https://localhost:8080/"
    },
    "executionInfo": {
     "elapsed": 420,
     "status": "ok",
     "timestamp": 1647793107567,
     "user": {
      "displayName": "bae CHO",
      "photoUrl": "https://lh3.googleusercontent.com/a/default-user=s64",
      "userId": "10400954908632605816"
     },
     "user_tz": -540
    },
    "id": "gbyDlcdYHuEA",
    "outputId": "b448d0aa-cb95-47f8-e7e1-ddbec9266bb0"
   },
   "outputs": [
    {
     "name": "stdout",
     "output_type": "stream",
     "text": [
      "재배업\n",
      "재생업\n",
      "재산권\n",
      "재생\n",
      "재료\n",
      "재\n",
      "재보험업\n",
      "재처리업\n",
      "재생용\n",
      "재화\n",
      "재활원\n",
      "재정\n",
      "재해\n"
     ]
    }
   ],
   "source": [
    "for t in ind_class_toks['Unnamed: 0']:\n",
    "  if t.startswith('재'):\n",
    "    print(t)"
   ]
  },
  {
   "cell_type": "code",
   "execution_count": null,
   "metadata": {
    "colab": {
     "base_uri": "https://localhost:8080/"
    },
    "executionInfo": {
     "elapsed": 4,
     "status": "ok",
     "timestamp": 1647790022907,
     "user": {
      "displayName": "bae CHO",
      "photoUrl": "https://lh3.googleusercontent.com/a/default-user=s64",
      "userId": "10400954908632605816"
     },
     "user_tz": -540
    },
    "id": "mRNkE1x37IV8",
    "outputId": "421dd88e-aaa1-4899-d2d1-52cbf4efe669"
   },
   "outputs": [
    {
     "data": {
      "text/plain": [
       "586"
      ]
     },
     "execution_count": 21,
     "metadata": {},
     "output_type": "execute_result"
    }
   ],
   "source": [
    "#len(compounds)"
   ]
  },
  {
   "cell_type": "code",
   "execution_count": null,
   "metadata": {
    "colab": {
     "base_uri": "https://localhost:8080/"
    },
    "executionInfo": {
     "elapsed": 413,
     "status": "ok",
     "timestamp": 1647793062406,
     "user": {
      "displayName": "bae CHO",
      "photoUrl": "https://lh3.googleusercontent.com/a/default-user=s64",
      "userId": "10400954908632605816"
     },
     "user_tz": -540
    },
    "id": "HhWahazoEbc1",
    "outputId": "6eb54d3a-3db1-4414-a6a5-102d13827fb3"
   },
   "outputs": [
    {
     "data": {
      "text/plain": [
       "1311"
      ]
     },
     "execution_count": 110,
     "metadata": {},
     "output_type": "execute_result"
    }
   ],
   "source": [
    "len(compounds)"
   ]
  },
  {
   "cell_type": "code",
   "execution_count": null,
   "metadata": {
    "id": "lDWAKJLFPBWt"
   },
   "outputs": [],
   "source": [
    "toks_v2 = list(pd.read_csv('data/ind_class_toks_v2.csv').Column1)"
   ]
  },
  {
   "cell_type": "code",
   "execution_count": null,
   "metadata": {
    "id": "v3_U-wrj8U6M"
   },
   "outputs": [],
   "source": [
    "toks_v2 += compounds"
   ]
  },
  {
   "cell_type": "code",
   "execution_count": null,
   "metadata": {
    "colab": {
     "base_uri": "https://localhost:8080/"
    },
    "executionInfo": {
     "elapsed": 11,
     "status": "ok",
     "timestamp": 1647792247701,
     "user": {
      "displayName": "bae CHO",
      "photoUrl": "https://lh3.googleusercontent.com/a/default-user=s64",
      "userId": "10400954908632605816"
     },
     "user_tz": -540
    },
    "id": "lkYLQ3lN8BFD",
    "outputId": "62c0ae47-d9c1-434d-901e-aa566ee27bb5"
   },
   "outputs": [
    {
     "data": {
      "text/plain": [
       "2345"
      ]
     },
     "execution_count": 80,
     "metadata": {},
     "output_type": "execute_result"
    }
   ],
   "source": [
    "len(toks_v2)"
   ]
  },
  {
   "cell_type": "code",
   "execution_count": null,
   "metadata": {
    "id": "gPkGZRP98t57"
   },
   "outputs": [],
   "source": [
    "toks_v2 = list(set(toks_v2))"
   ]
  },
  {
   "cell_type": "code",
   "execution_count": null,
   "metadata": {
    "colab": {
     "base_uri": "https://localhost:8080/"
    },
    "executionInfo": {
     "elapsed": 2,
     "status": "ok",
     "timestamp": 1647792251059,
     "user": {
      "displayName": "bae CHO",
      "photoUrl": "https://lh3.googleusercontent.com/a/default-user=s64",
      "userId": "10400954908632605816"
     },
     "user_tz": -540
    },
    "id": "hCwF9Fvs8xAC",
    "outputId": "cb587a6d-4d89-428f-8d1c-267785a78073"
   },
   "outputs": [
    {
     "data": {
      "text/plain": [
       "1617"
      ]
     },
     "execution_count": 82,
     "metadata": {},
     "output_type": "execute_result"
    }
   ],
   "source": [
    "len(toks_v2)"
   ]
  },
  {
   "cell_type": "code",
   "execution_count": null,
   "metadata": {
    "id": "GW9p7yB48gBN"
   },
   "outputs": [],
   "source": [
    "pre_toks = list(pd.read_csv('data/toks_v3.csv').token)"
   ]
  },
  {
   "cell_type": "code",
   "execution_count": null,
   "metadata": {
    "id": "UdIxfEtR84PY"
   },
   "outputs": [],
   "source": [
    "pre_toks = list(set(pre_toks))"
   ]
  },
  {
   "cell_type": "code",
   "execution_count": null,
   "metadata": {
    "colab": {
     "base_uri": "https://localhost:8080/"
    },
    "executionInfo": {
     "elapsed": 11,
     "status": "ok",
     "timestamp": 1647792268522,
     "user": {
      "displayName": "bae CHO",
      "photoUrl": "https://lh3.googleusercontent.com/a/default-user=s64",
      "userId": "10400954908632605816"
     },
     "user_tz": -540
    },
    "id": "oMu20Ubb878w",
    "outputId": "ad1ce51c-ffc4-4603-da4f-1adf269534d2"
   },
   "outputs": [
    {
     "data": {
      "text/plain": [
       "875"
      ]
     },
     "execution_count": 91,
     "metadata": {},
     "output_type": "execute_result"
    }
   ],
   "source": [
    "len(pre_toks)"
   ]
  },
  {
   "cell_type": "code",
   "execution_count": null,
   "metadata": {
    "id": "5TBnuk3c89Di"
   },
   "outputs": [],
   "source": [
    "pre_toks += toks_v2"
   ]
  },
  {
   "cell_type": "code",
   "execution_count": null,
   "metadata": {
    "id": "nij9sFFl8_zV"
   },
   "outputs": [],
   "source": [
    "pre_toks = list(set(pre_toks))"
   ]
  },
  {
   "cell_type": "code",
   "execution_count": null,
   "metadata": {
    "id": "Rflr7RNb9DGk"
   },
   "outputs": [],
   "source": [
    "pre_toks += tokenizer.pre_tokens"
   ]
  },
  {
   "cell_type": "code",
   "execution_count": null,
   "metadata": {
    "id": "M05LsytL9Ite"
   },
   "outputs": [],
   "source": [
    "pre_toks = list(set(pre_toks))"
   ]
  },
  {
   "cell_type": "code",
   "execution_count": null,
   "metadata": {
    "colab": {
     "base_uri": "https://localhost:8080/"
    },
    "executionInfo": {
     "elapsed": 366,
     "status": "ok",
     "timestamp": 1647792288294,
     "user": {
      "displayName": "bae CHO",
      "photoUrl": "https://lh3.googleusercontent.com/a/default-user=s64",
      "userId": "10400954908632605816"
     },
     "user_tz": -540
    },
    "id": "XGiZIoC-9Sbz",
    "outputId": "7d9839c4-5a6a-4985-ba83-0e37e2d0507d"
   },
   "outputs": [
    {
     "data": {
      "text/plain": [
       "2120"
      ]
     },
     "execution_count": 96,
     "metadata": {},
     "output_type": "execute_result"
    }
   ],
   "source": [
    "len(pre_toks)"
   ]
  },
  {
   "cell_type": "code",
   "execution_count": null,
   "metadata": {
    "id": "UNmjXSFg9Tng"
   },
   "outputs": [],
   "source": [
    "pd.DataFrame(pre_toks).to_csv('data/pre_toks_220321_2.csv', index=False)"
   ]
  },
  {
   "cell_type": "code",
   "execution_count": null,
   "metadata": {
    "id": "9lvby-TG9X5u"
   },
   "outputs": [],
   "source": [
    "pt = pd.read_csv('data/pre_toks_220321_2.csv')"
   ]
  },
  {
   "cell_type": "code",
   "execution_count": null,
   "metadata": {
    "colab": {
     "base_uri": "https://localhost:8080/"
    },
    "executionInfo": {
     "elapsed": 414,
     "status": "ok",
     "timestamp": 1647791944523,
     "user": {
      "displayName": "bae CHO",
      "photoUrl": "https://lh3.googleusercontent.com/a/default-user=s64",
      "userId": "10400954908632605816"
     },
     "user_tz": -540
    },
    "id": "0gJ4EFT7DB-Q",
    "outputId": "3d8736f6-3934-4b3a-88e3-7b67a2002458"
   },
   "outputs": [
    {
     "name": "stdout",
     "output_type": "stream",
     "text": [
      "회\n",
      "류\n",
      "열\n",
      "을\n",
      "탭\n",
      "쌀\n",
      "캔\n",
      "꽃\n",
      "솜\n",
      "펌\n",
      "닭\n",
      "차\n",
      "찜\n",
      "초\n",
      "밥\n",
      "술\n",
      "벽\n",
      "컷\n",
      "죽\n",
      "콩\n",
      "약\n",
      "못\n",
      "댐\n",
      "등\n",
      "옷\n",
      "를\n",
      "티\n",
      "떡\n",
      "석\n",
      "톱\n",
      "책\n",
      "침\n",
      "즙\n",
      "빵\n"
     ]
    }
   ],
   "source": [
    "for t in tokenizer.pre_tokens:\n",
    "  if len(t) == 1:\n",
    "    print(t)"
   ]
  },
  {
   "cell_type": "code",
   "execution_count": null,
   "metadata": {
    "id": "7VCDYMZZ-E0e"
   },
   "outputs": [],
   "source": [
    "pt[pt['0'].apply(len) > 1].to_csv('data/pre_toks_220321_3.csv', index=False)"
   ]
  },
  {
   "cell_type": "code",
   "execution_count": null,
   "metadata": {
    "id": "rmd5dFWm-FUz"
   },
   "outputs": [],
   "source": [
    "pt_over_1 = list(pt[pt['0'].apply(len) > 1]['0'])"
   ]
  },
  {
   "cell_type": "code",
   "execution_count": null,
   "metadata": {
    "colab": {
     "base_uri": "https://localhost:8080/"
    },
    "executionInfo": {
     "elapsed": 11,
     "status": "ok",
     "timestamp": 1647792425317,
     "user": {
      "displayName": "bae CHO",
      "photoUrl": "https://lh3.googleusercontent.com/a/default-user=s64",
      "userId": "10400954908632605816"
     },
     "user_tz": -540
    },
    "id": "8Kbz-J6eFOW1",
    "outputId": "03413593-0e78-4977-a394-7d0350226171"
   },
   "outputs": [
    {
     "data": {
      "text/plain": [
       "2086"
      ]
     },
     "execution_count": 103,
     "metadata": {},
     "output_type": "execute_result"
    }
   ],
   "source": [
    "len(pt_over_1)"
   ]
  },
  {
   "cell_type": "code",
   "execution_count": null,
   "metadata": {
    "colab": {
     "base_uri": "https://localhost:8080/"
    },
    "executionInfo": {
     "elapsed": 9,
     "status": "ok",
     "timestamp": 1647793181720,
     "user": {
      "displayName": "bae CHO",
      "photoUrl": "https://lh3.googleusercontent.com/a/default-user=s64",
      "userId": "10400954908632605816"
     },
     "user_tz": -540
    },
    "id": "WW-G3ybLFoBz",
    "outputId": "61ddb1e8-90cc-4a46-bde0-bd032394ef0c"
   },
   "outputs": [
    {
     "data": {
      "text/plain": [
       "False"
      ]
     },
     "execution_count": 112,
     "metadata": {},
     "output_type": "execute_result"
    }
   ],
   "source": [
    "'내장' in pt_over_1"
   ]
  },
  {
   "cell_type": "code",
   "execution_count": null,
   "metadata": {
    "id": "weK0DqMCHZRR"
   },
   "outputs": [],
   "source": [
    "pt_over_1.remove('내장')"
   ]
  },
  {
   "cell_type": "code",
   "execution_count": null,
   "metadata": {
    "id": "D-pUkFftFxKk"
   },
   "outputs": [],
   "source": [
    "pt_over_1 += ['일본', '양성', '혈압', '패널']"
   ]
  },
  {
   "cell_type": "code",
   "execution_count": null,
   "metadata": {
    "id": "JCiVqEa_FQAq"
   },
   "outputs": [],
   "source": [
    "pt = pt_over_1 + ['을', '를', '등', '댐', '떡', '옷', '컷', '꽃', '류', '밥', '못', '즙', '빵']"
   ]
  },
  {
   "cell_type": "code",
   "execution_count": null,
   "metadata": {
    "id": "V0qWRJCkIWQY"
   },
   "outputs": [],
   "source": [
    "pd.DataFrame(pt).to_csv('data/pre_toks_220321_4.csv', index=False)"
   ]
  },
  {
   "cell_type": "code",
   "execution_count": null,
   "metadata": {
    "id": "SJ5e2OKnIdnc"
   },
   "outputs": [],
   "source": []
  },
  {
   "cell_type": "markdown",
   "metadata": {
    "id": "QMTyvrPYJFz_"
   },
   "source": [
    "## Mthd"
   ]
  },
  {
   "cell_type": "code",
   "execution_count": 13,
   "metadata": {
    "executionInfo": {
     "elapsed": 4,
     "status": "ok",
     "timestamp": 1647959556240,
     "user": {
      "displayName": "bae CHO",
      "photoUrl": "https://lh3.googleusercontent.com/a/default-user=s64",
      "userId": "10400954908632605816"
     },
     "user_tz": -540
    },
    "id": "VeOLQOYWB-5j"
   },
   "outputs": [],
   "source": [
    "pt = list(pd.read_csv('data/pre_toks_220321_4.csv')['0'])"
   ]
  },
  {
   "cell_type": "code",
   "execution_count": 36,
   "metadata": {
    "colab": {
     "base_uri": "https://localhost:8080/"
    },
    "executionInfo": {
     "elapsed": 243,
     "status": "ok",
     "timestamp": 1647960504294,
     "user": {
      "displayName": "bae CHO",
      "photoUrl": "https://lh3.googleusercontent.com/a/default-user=s64",
      "userId": "10400954908632605816"
     },
     "user_tz": -540
    },
    "id": "ukkHKzBRCvQ2",
    "outputId": "29521d14-8d3a-44ea-835a-bd91e1e389c6"
   },
   "outputs": [
    {
     "data": {
      "text/plain": [
       "False"
      ]
     },
     "execution_count": 36,
     "metadata": {},
     "output_type": "execute_result"
    }
   ],
   "source": [
    "'업자' in pt"
   ]
  },
  {
   "cell_type": "code",
   "execution_count": 37,
   "metadata": {
    "executionInfo": {
     "elapsed": 223,
     "status": "ok",
     "timestamp": 1647960541227,
     "user": {
      "displayName": "bae CHO",
      "photoUrl": "https://lh3.googleusercontent.com/a/default-user=s64",
      "userId": "10400954908632605816"
     },
     "user_tz": -540
    },
    "id": "g0ij1_ffCvx5"
   },
   "outputs": [],
   "source": [
    "new_pt = ['2차', '3차', '매장', '들','업자','이용자', '중학생', '초등학생', '고등학생', '대학생', '대학원생', '직장인', '직장', '사용자', '사용', '보호자', '일반인들', '보호자들', '체결', '체인', '금은','에의해', '위탁', '받아', '받는', '의해','접객', '고객', '으로', '로', '으로서', '로서','으로써', '로써', '에게', '대상', '학생들', '학생', '현장', '에서', '께서', '한테', '한테서', '더러', '에게서', '처럼', '같이', '만큼', '만치', '하고', '이며', '에다', '에다가', '부터', '로부터', '으로부터', '까지', '마저', '조차', '일랑', '커녕', '뿐', '뿐만', '아니라', '따라', '토록', '밖에', '대로', '데로', '든가', '든지', '이며', '보다', '처럼', '만큼', '같이', '조차', '마저', '까지', '이나', '이나마', '나마', '이라도', '라도', '하여']"
   ]
  },
  {
   "cell_type": "code",
   "execution_count": 38,
   "metadata": {
    "executionInfo": {
     "elapsed": 432,
     "status": "ok",
     "timestamp": 1647960553790,
     "user": {
      "displayName": "bae CHO",
      "photoUrl": "https://lh3.googleusercontent.com/a/default-user=s64",
      "userId": "10400954908632605816"
     },
     "user_tz": -540
    },
    "id": "bhq_lve_EapM"
   },
   "outputs": [],
   "source": [
    "new_pt = list(set(new_pt))"
   ]
  },
  {
   "cell_type": "code",
   "execution_count": 39,
   "metadata": {
    "colab": {
     "base_uri": "https://localhost:8080/"
    },
    "executionInfo": {
     "elapsed": 3,
     "status": "ok",
     "timestamp": 1647960563322,
     "user": {
      "displayName": "bae CHO",
      "photoUrl": "https://lh3.googleusercontent.com/a/default-user=s64",
      "userId": "10400954908632605816"
     },
     "user_tz": -540
    },
    "id": "nJ_rdQAKGnOv",
    "outputId": "3536c796-afcd-4ae8-fe55-02c31cbbb254"
   },
   "outputs": [
    {
     "data": {
      "text/plain": [
       "78"
      ]
     },
     "execution_count": 39,
     "metadata": {},
     "output_type": "execute_result"
    }
   ],
   "source": [
    "len(new_pt)"
   ]
  },
  {
   "cell_type": "code",
   "execution_count": 40,
   "metadata": {
    "executionInfo": {
     "elapsed": 241,
     "status": "ok",
     "timestamp": 1647960587168,
     "user": {
      "displayName": "bae CHO",
      "photoUrl": "https://lh3.googleusercontent.com/a/default-user=s64",
      "userId": "10400954908632605816"
     },
     "user_tz": -540
    },
    "id": "Sg7H4FFpGpve"
   },
   "outputs": [],
   "source": [
    "pt += new_pt"
   ]
  },
  {
   "cell_type": "code",
   "execution_count": 41,
   "metadata": {
    "colab": {
     "base_uri": "https://localhost:8080/"
    },
    "executionInfo": {
     "elapsed": 228,
     "status": "ok",
     "timestamp": 1647960591312,
     "user": {
      "displayName": "bae CHO",
      "photoUrl": "https://lh3.googleusercontent.com/a/default-user=s64",
      "userId": "10400954908632605816"
     },
     "user_tz": -540
    },
    "id": "JkKYS8xYGvf2",
    "outputId": "f033e00e-5962-4072-e916-1ed2ff9ee1e8"
   },
   "outputs": [
    {
     "data": {
      "text/plain": [
       "2224"
      ]
     },
     "execution_count": 41,
     "metadata": {},
     "output_type": "execute_result"
    }
   ],
   "source": [
    "len(pt)"
   ]
  },
  {
   "cell_type": "code",
   "execution_count": 42,
   "metadata": {
    "executionInfo": {
     "elapsed": 241,
     "status": "ok",
     "timestamp": 1647960598663,
     "user": {
      "displayName": "bae CHO",
      "photoUrl": "https://lh3.googleusercontent.com/a/default-user=s64",
      "userId": "10400954908632605816"
     },
     "user_tz": -540
    },
    "id": "lVrX6D3wGwg1"
   },
   "outputs": [],
   "source": [
    "pt = list(set(pt))"
   ]
  },
  {
   "cell_type": "code",
   "execution_count": 43,
   "metadata": {
    "colab": {
     "base_uri": "https://localhost:8080/"
    },
    "executionInfo": {
     "elapsed": 246,
     "status": "ok",
     "timestamp": 1647960601580,
     "user": {
      "displayName": "bae CHO",
      "photoUrl": "https://lh3.googleusercontent.com/a/default-user=s64",
      "userId": "10400954908632605816"
     },
     "user_tz": -540
    },
    "id": "v1HWj5WMGyXs",
    "outputId": "f4be0c31-0b16-4ec6-dff1-0a73ff45ba3e"
   },
   "outputs": [
    {
     "data": {
      "text/plain": [
       "2180"
      ]
     },
     "execution_count": 43,
     "metadata": {},
     "output_type": "execute_result"
    }
   ],
   "source": [
    "len(pt)"
   ]
  },
  {
   "cell_type": "code",
   "execution_count": 44,
   "metadata": {
    "executionInfo": {
     "elapsed": 328,
     "status": "ok",
     "timestamp": 1647960623932,
     "user": {
      "displayName": "bae CHO",
      "photoUrl": "https://lh3.googleusercontent.com/a/default-user=s64",
      "userId": "10400954908632605816"
     },
     "user_tz": -540
    },
    "id": "x-FnrxVXGzAR"
   },
   "outputs": [],
   "source": [
    "pt.sort(key=len, reverse=True)"
   ]
  },
  {
   "cell_type": "code",
   "execution_count": 46,
   "metadata": {
    "executionInfo": {
     "elapsed": 322,
     "status": "ok",
     "timestamp": 1647960691093,
     "user": {
      "displayName": "bae CHO",
      "photoUrl": "https://lh3.googleusercontent.com/a/default-user=s64",
      "userId": "10400954908632605816"
     },
     "user_tz": -540
    },
    "id": "gzQOZk0qG5Mq"
   },
   "outputs": [],
   "source": [
    "pd.DataFrame(pt).to_csv('data/pre_toks_220322_1.csv', index=False)"
   ]
  },
  {
   "cell_type": "code",
   "execution_count": 48,
   "metadata": {
    "executionInfo": {
     "elapsed": 238,
     "status": "ok",
     "timestamp": 1647960752844,
     "user": {
      "displayName": "bae CHO",
      "photoUrl": "https://lh3.googleusercontent.com/a/default-user=s64",
      "userId": "10400954908632605816"
     },
     "user_tz": -540
    },
    "id": "jKpbz33kHI2q"
   },
   "outputs": [],
   "source": [
    "tokenizer = DealTokenizer(pre_tokens='data/pre_toks_220322_1.csv')"
   ]
  },
  {
   "cell_type": "code",
   "execution_count": 51,
   "metadata": {
    "executionInfo": {
     "elapsed": 541744,
     "status": "ok",
     "timestamp": 1647961327234,
     "user": {
      "displayName": "bae CHO",
      "photoUrl": "https://lh3.googleusercontent.com/a/default-user=s64",
      "userId": "10400954908632605816"
     },
     "user_tz": -540
    },
    "id": "sYO4ycVVHX8s"
   },
   "outputs": [],
   "source": [
    "mthd_toks = df.text_mthd.apply(tokenizer.tokenize)"
   ]
  },
  {
   "cell_type": "code",
   "execution_count": 52,
   "metadata": {
    "executionInfo": {
     "elapsed": 2516,
     "status": "ok",
     "timestamp": 1647961330755,
     "user": {
      "displayName": "bae CHO",
      "photoUrl": "https://lh3.googleusercontent.com/a/default-user=s64",
      "userId": "10400954908632605816"
     },
     "user_tz": -540
    },
    "id": "7Hu147wpHf_z"
   },
   "outputs": [],
   "source": [
    "mthd_toks.to_csv('data/mthd_toks_test_220322.csv')"
   ]
  },
  {
   "cell_type": "code",
   "execution_count": 53,
   "metadata": {
    "executionInfo": {
     "elapsed": 2253,
     "status": "ok",
     "timestamp": 1647961688426,
     "user": {
      "displayName": "bae CHO",
      "photoUrl": "https://lh3.googleusercontent.com/a/default-user=s64",
      "userId": "10400954908632605816"
     },
     "user_tz": -540
    },
    "id": "TNPRgC-mIfl5"
   },
   "outputs": [],
   "source": [
    "mthd_toks_cnt = mthd_toks.explode().value_counts()"
   ]
  },
  {
   "cell_type": "code",
   "execution_count": 55,
   "metadata": {
    "executionInfo": {
     "elapsed": 318,
     "status": "ok",
     "timestamp": 1647961784966,
     "user": {
      "displayName": "bae CHO",
      "photoUrl": "https://lh3.googleusercontent.com/a/default-user=s64",
      "userId": "10400954908632605816"
     },
     "user_tz": -540
    },
    "id": "yvsLGlH_K7v1"
   },
   "outputs": [],
   "source": [
    "mthd_toks_cnt.to_csv('data/mthd_toks_cnt_220322.csv')"
   ]
  },
  {
   "cell_type": "code",
   "execution_count": 94,
   "metadata": {
    "colab": {
     "base_uri": "https://localhost:8080/"
    },
    "executionInfo": {
     "elapsed": 274,
     "status": "ok",
     "timestamp": 1647963249008,
     "user": {
      "displayName": "bae CHO",
      "photoUrl": "https://lh3.googleusercontent.com/a/default-user=s64",
      "userId": "10400954908632605816"
     },
     "user_tz": -540
    },
    "id": "I5kVfQq9Q4D3",
    "outputId": "8296831d-47af-44e7-9e0f-d29055f5107f"
   },
   "outputs": [
    {
     "data": {
      "text/plain": [
       "을         291219\n",
       "로         273038\n",
       "으         245805\n",
       "대상        230920\n",
       "일반        227086\n",
       "           ...  \n",
       "광주e7t          1\n",
       "Tworld         1\n",
       "멸종위기동          1\n",
       "글렌딩            1\n",
       "예채             1\n",
       "Name: text_mthd, Length: 29103, dtype: int64"
      ]
     },
     "execution_count": 94,
     "metadata": {},
     "output_type": "execute_result"
    }
   ],
   "source": [
    "mthd_toks_cnt"
   ]
  },
  {
   "cell_type": "code",
   "execution_count": 113,
   "metadata": {
    "colab": {
     "base_uri": "https://localhost:8080/"
    },
    "executionInfo": {
     "elapsed": 495,
     "status": "ok",
     "timestamp": 1647963866439,
     "user": {
      "displayName": "bae CHO",
      "photoUrl": "https://lh3.googleusercontent.com/a/default-user=s64",
      "userId": "10400954908632605816"
     },
     "user_tz": -540
    },
    "id": "iTgf2IsaLeF6",
    "outputId": "996fcb76-7d93-4ba8-9070-65283f59946e"
   },
   "outputs": [
    {
     "data": {
      "text/plain": [
       "False"
      ]
     },
     "execution_count": 113,
     "metadata": {},
     "output_type": "execute_result"
    }
   ],
   "source": [
    "'카페' in pt"
   ]
  },
  {
   "cell_type": "code",
   "execution_count": 114,
   "metadata": {
    "executionInfo": {
     "elapsed": 257,
     "status": "ok",
     "timestamp": 1647963879667,
     "user": {
      "displayName": "bae CHO",
      "photoUrl": "https://lh3.googleusercontent.com/a/default-user=s64",
      "userId": "10400954908632605816"
     },
     "user_tz": -540
    },
    "id": "9HRD6JkbLMLB"
   },
   "outputs": [],
   "source": [
    "new_pt = ['카페','입찰','하도급','위기','기업','외래','행위','영업','무도시설', '도시민', '농민', '없이', '의뢰', '의뢰인', '계통', '사찰', '세액', '계산','요청', '인해', '중고생', '관할', '지역', '구청', '교육청', '인가', '간에', '중탕', '받음', '통해', '통해서', '다른', '위기', '수거', '몰딩', '에폭시', '관해서', '관하여', '해서', '하여서', '부착', '레스토랑', '초음파', '매입', '카메라', '사출', '조임', '프레임', '아래', '없는', '자판기', '미만', '가게', '국악', '갖추고', '업체', '화원', '방지', '교회','향상','수수료', '시설', '하면', '하면서', '벽면', '요구', '고객', '수퍼', '의거', '의해서', '의한', '의하면']"
   ]
  },
  {
   "cell_type": "code",
   "execution_count": 115,
   "metadata": {
    "executionInfo": {
     "elapsed": 6,
     "status": "ok",
     "timestamp": 1647963880941,
     "user": {
      "displayName": "bae CHO",
      "photoUrl": "https://lh3.googleusercontent.com/a/default-user=s64",
      "userId": "10400954908632605816"
     },
     "user_tz": -540
    },
    "id": "TKSrrUYBQeAu"
   },
   "outputs": [],
   "source": [
    "new_pt = list(set(new_pt))"
   ]
  },
  {
   "cell_type": "code",
   "execution_count": 88,
   "metadata": {
    "executionInfo": {
     "elapsed": 2,
     "status": "ok",
     "timestamp": 1647963156869,
     "user": {
      "displayName": "bae CHO",
      "photoUrl": "https://lh3.googleusercontent.com/a/default-user=s64",
      "userId": "10400954908632605816"
     },
     "user_tz": -540
    },
    "id": "C0Hw5kWFLaIa"
   },
   "outputs": [],
   "source": [
    "risky_pt = ['에']"
   ]
  },
  {
   "cell_type": "code",
   "execution_count": 89,
   "metadata": {
    "executionInfo": {
     "elapsed": 479,
     "status": "ok",
     "timestamp": 1647963159023,
     "user": {
      "displayName": "bae CHO",
      "photoUrl": "https://lh3.googleusercontent.com/a/default-user=s64",
      "userId": "10400954908632605816"
     },
     "user_tz": -540
    },
    "id": "AtFZLQXwPQ80"
   },
   "outputs": [],
   "source": [
    "to_del_pt = ['도시']"
   ]
  },
  {
   "cell_type": "code",
   "execution_count": 83,
   "metadata": {
    "executionInfo": {
     "elapsed": 238,
     "status": "ok",
     "timestamp": 1647963120460,
     "user": {
      "displayName": "bae CHO",
      "photoUrl": "https://lh3.googleusercontent.com/a/default-user=s64",
      "userId": "10400954908632605816"
     },
     "user_tz": -540
    },
    "id": "k9rdEJ5nQUiW"
   },
   "outputs": [],
   "source": [
    "pt.remove('도시')"
   ]
  },
  {
   "cell_type": "code",
   "execution_count": 109,
   "metadata": {
    "executionInfo": {
     "elapsed": 2,
     "status": "ok",
     "timestamp": 1647963848762,
     "user": {
      "displayName": "bae CHO",
      "photoUrl": "https://lh3.googleusercontent.com/a/default-user=s64",
      "userId": "10400954908632605816"
     },
     "user_tz": -540
    },
    "id": "X3FkYMVDQZ_J"
   },
   "outputs": [],
   "source": [
    "pt += new_pt"
   ]
  },
  {
   "cell_type": "code",
   "execution_count": 90,
   "metadata": {
    "executionInfo": {
     "elapsed": 263,
     "status": "ok",
     "timestamp": 1647963166740,
     "user": {
      "displayName": "bae CHO",
      "photoUrl": "https://lh3.googleusercontent.com/a/default-user=s64",
      "userId": "10400954908632605816"
     },
     "user_tz": -540
    },
    "id": "fOmqp4S-Qh7_"
   },
   "outputs": [],
   "source": [
    "pt += risky_pt"
   ]
  },
  {
   "cell_type": "code",
   "execution_count": 116,
   "metadata": {
    "executionInfo": {
     "elapsed": 3,
     "status": "ok",
     "timestamp": 1647963883670,
     "user": {
      "displayName": "bae CHO",
      "photoUrl": "https://lh3.googleusercontent.com/a/default-user=s64",
      "userId": "10400954908632605816"
     },
     "user_tz": -540
    },
    "id": "kO8YyL9SQlLd"
   },
   "outputs": [],
   "source": [
    "pt = list(set(pt))"
   ]
  },
  {
   "cell_type": "code",
   "execution_count": 117,
   "metadata": {
    "executionInfo": {
     "elapsed": 259,
     "status": "ok",
     "timestamp": 1647963884935,
     "user": {
      "displayName": "bae CHO",
      "photoUrl": "https://lh3.googleusercontent.com/a/default-user=s64",
      "userId": "10400954908632605816"
     },
     "user_tz": -540
    },
    "id": "LhxaP7dEQnpN"
   },
   "outputs": [],
   "source": [
    "pt.sort(key=len, reverse=True)"
   ]
  },
  {
   "cell_type": "code",
   "execution_count": 118,
   "metadata": {
    "executionInfo": {
     "elapsed": 4,
     "status": "ok",
     "timestamp": 1647963885957,
     "user": {
      "displayName": "bae CHO",
      "photoUrl": "https://lh3.googleusercontent.com/a/default-user=s64",
      "userId": "10400954908632605816"
     },
     "user_tz": -540
    },
    "id": "-DMbvfjLQq1J"
   },
   "outputs": [],
   "source": [
    "pd.DataFrame(pt).to_csv('data/pre_toks_220322_2.csv', index=False)"
   ]
  },
  {
   "cell_type": "code",
   "execution_count": null,
   "metadata": {
    "id": "L3fVj6GkQvzX"
   },
   "outputs": [],
   "source": []
  },
  {
   "cell_type": "markdown",
   "metadata": {
    "id": "vqEhpODST0w3"
   },
   "source": [
    "## Obj"
   ]
  },
  {
   "cell_type": "code",
   "execution_count": 5,
   "metadata": {
    "id": "DZKI-RrpT7pP"
   },
   "outputs": [],
   "source": [
    "tokenizer = DealTokenizer('data/pre_toks_220322_2.csv')"
   ]
  },
  {
   "cell_type": "code",
   "execution_count": 6,
   "metadata": {},
   "outputs": [],
   "source": [
    "obj_toks = df.text_obj.apply(tokenizer.tokenize)"
   ]
  },
  {
   "cell_type": "code",
   "execution_count": 7,
   "metadata": {
    "scrolled": false
   },
   "outputs": [
    {
     "name": "stderr",
     "output_type": "stream",
     "text": [
      "C:\\ProgramData\\Anaconda3\\lib\\site-packages\\ipykernel_launcher.py:1: FutureWarning: The signature of `Series.to_csv` was aligned to that of `DataFrame.to_csv`, and argument 'header' will change its default value from False to True: please pass an explicit value to suppress this warning.\n",
      "  \"\"\"Entry point for launching an IPython kernel.\n"
     ]
    }
   ],
   "source": [
    "obj_toks.to_csv('data/obj_toks_test.csv')"
   ]
  },
  {
   "cell_type": "code",
   "execution_count": 6,
   "metadata": {},
   "outputs": [
    {
     "data": {
      "text/plain": [
       "AI_id\n",
       "id_0000001               [카센터, 에, 서]\n",
       "id_0000002               [상점내, 에, 서]\n",
       "id_0000003    [절단, 하여, 사업, 체, 에, 도매]\n",
       "id_0000004             [영업, 점, 에, 서]\n",
       "id_0000005                  [어린이, 집]\n",
       "                       ...          \n",
       "id_0999996                  [제품, 입고]\n",
       "id_0999997                [현장, 에, 서]\n",
       "id_0999998             [영업, 점, 에, 서]\n",
       "id_0999999             [사업, 장, 에, 서]\n",
       "id_1000000             [사업, 장, 에, 서]\n",
       "Name: text_obj, Length: 1000000, dtype: object"
      ]
     },
     "execution_count": 6,
     "metadata": {},
     "output_type": "execute_result"
    }
   ],
   "source": [
    "obj_toks"
   ]
  },
  {
   "cell_type": "code",
   "execution_count": 7,
   "metadata": {},
   "outputs": [],
   "source": [
    "obj_toks_cnt = obj_toks.explode().value_counts()"
   ]
  },
  {
   "cell_type": "code",
   "execution_count": 9,
   "metadata": {},
   "outputs": [],
   "source": [
    "obj_toks_cnt.to_csv('data/obj_toks_cnt.csv')"
   ]
  },
  {
   "cell_type": "code",
   "execution_count": 8,
   "metadata": {},
   "outputs": [],
   "source": [
    "pt = list(pd.read_csv('data/pre_toks_220322_2.csv')['0'])"
   ]
  },
  {
   "cell_type": "code",
   "execution_count": 24,
   "metadata": {
    "scrolled": true
   },
   "outputs": [
    {
     "data": {
      "text/plain": [
       "False"
      ]
     },
     "execution_count": 24,
     "metadata": {},
     "output_type": "execute_result"
    }
   ],
   "source": [
    "'사업체' in pt"
   ]
  },
  {
   "cell_type": "code",
   "execution_count": 25,
   "metadata": {},
   "outputs": [],
   "source": [
    "new_pt = ['사업체','목욕탕', '측정기', '공부', '공방', '고교', '매점', '지회', '지부', '총연합회', '연합회', '양조장', '양조', '프랜차이즈', '성경', '아카데미', '집계', '현황', '횟집', '한국']"
   ]
  },
  {
   "cell_type": "code",
   "execution_count": 26,
   "metadata": {},
   "outputs": [],
   "source": [
    "to_del = ['조사업']"
   ]
  },
  {
   "cell_type": "code",
   "execution_count": 27,
   "metadata": {},
   "outputs": [],
   "source": [
    "pt.remove('조사업')"
   ]
  },
  {
   "cell_type": "code",
   "execution_count": 28,
   "metadata": {},
   "outputs": [],
   "source": [
    "pt += new_pt"
   ]
  },
  {
   "cell_type": "code",
   "execution_count": 29,
   "metadata": {},
   "outputs": [],
   "source": [
    "pt.sort(key=len, reverse=True)"
   ]
  },
  {
   "cell_type": "code",
   "execution_count": 30,
   "metadata": {},
   "outputs": [],
   "source": [
    "pd.DataFrame(pt).to_csv('data/pre_toks_220323_1.csv', index=False)"
   ]
  },
  {
   "cell_type": "markdown",
   "metadata": {},
   "source": [
    "## Test set"
   ]
  },
  {
   "cell_type": "code",
   "execution_count": 4,
   "metadata": {},
   "outputs": [],
   "source": [
    "pt = list(pd.read_csv('data/pre_toks_220323_1.csv')['0'])"
   ]
  },
  {
   "cell_type": "code",
   "execution_count": 61,
   "metadata": {},
   "outputs": [],
   "source": [
    "df_test = pd.read_csv('data/testset.csv', index_col='AI_id')"
   ]
  },
  {
   "cell_type": "code",
   "execution_count": 62,
   "metadata": {},
   "outputs": [
    {
     "data": {
      "text/html": [
       "<div>\n",
       "<style scoped>\n",
       "    .dataframe tbody tr th:only-of-type {\n",
       "        vertical-align: middle;\n",
       "    }\n",
       "\n",
       "    .dataframe tbody tr th {\n",
       "        vertical-align: top;\n",
       "    }\n",
       "\n",
       "    .dataframe thead th {\n",
       "        text-align: right;\n",
       "    }\n",
       "</style>\n",
       "<table border=\"1\" class=\"dataframe\">\n",
       "  <thead>\n",
       "    <tr style=\"text-align: right;\">\n",
       "      <th></th>\n",
       "      <th>digit_1</th>\n",
       "      <th>digit_2</th>\n",
       "      <th>digit_3</th>\n",
       "      <th>text_obj</th>\n",
       "      <th>text_mthd</th>\n",
       "      <th>text_deal</th>\n",
       "    </tr>\n",
       "    <tr>\n",
       "      <th>AI_id</th>\n",
       "      <th></th>\n",
       "      <th></th>\n",
       "      <th></th>\n",
       "      <th></th>\n",
       "      <th></th>\n",
       "      <th></th>\n",
       "    </tr>\n",
       "  </thead>\n",
       "  <tbody>\n",
       "    <tr>\n",
       "      <th>id_000001</th>\n",
       "      <td>NaN</td>\n",
       "      <td>NaN</td>\n",
       "      <td>NaN</td>\n",
       "      <td>치킨전문점에서</td>\n",
       "      <td>고객의주문에의해</td>\n",
       "      <td>치킨판매</td>\n",
       "    </tr>\n",
       "    <tr>\n",
       "      <th>id_000002</th>\n",
       "      <td>NaN</td>\n",
       "      <td>NaN</td>\n",
       "      <td>NaN</td>\n",
       "      <td>산업공구</td>\n",
       "      <td>다른 소매업자에게</td>\n",
       "      <td>철물 수공구</td>\n",
       "    </tr>\n",
       "    <tr>\n",
       "      <th>id_000003</th>\n",
       "      <td>NaN</td>\n",
       "      <td>NaN</td>\n",
       "      <td>NaN</td>\n",
       "      <td>절에서</td>\n",
       "      <td>신도을 대상으로</td>\n",
       "      <td>불교단체운영</td>\n",
       "    </tr>\n",
       "    <tr>\n",
       "      <th>id_000004</th>\n",
       "      <td>NaN</td>\n",
       "      <td>NaN</td>\n",
       "      <td>NaN</td>\n",
       "      <td>영업장에서</td>\n",
       "      <td>고객요구로</td>\n",
       "      <td>자동차튜닝</td>\n",
       "    </tr>\n",
       "    <tr>\n",
       "      <th>id_000005</th>\n",
       "      <td>NaN</td>\n",
       "      <td>NaN</td>\n",
       "      <td>NaN</td>\n",
       "      <td>실내포장마차에서</td>\n",
       "      <td>접객시설을 갖추고</td>\n",
       "      <td>소주,맥주제공</td>\n",
       "    </tr>\n",
       "    <tr>\n",
       "      <th>...</th>\n",
       "      <td>...</td>\n",
       "      <td>...</td>\n",
       "      <td>...</td>\n",
       "      <td>...</td>\n",
       "      <td>...</td>\n",
       "      <td>...</td>\n",
       "    </tr>\n",
       "    <tr>\n",
       "      <th>id_099996</th>\n",
       "      <td>NaN</td>\n",
       "      <td>NaN</td>\n",
       "      <td>NaN</td>\n",
       "      <td>사업장에서</td>\n",
       "      <td>일반인대상으로</td>\n",
       "      <td>버섯농장</td>\n",
       "    </tr>\n",
       "    <tr>\n",
       "      <th>id_099997</th>\n",
       "      <td>NaN</td>\n",
       "      <td>NaN</td>\n",
       "      <td>NaN</td>\n",
       "      <td>한의원에서</td>\n",
       "      <td>외래환자위주고</td>\n",
       "      <td>치료</td>\n",
       "    </tr>\n",
       "    <tr>\n",
       "      <th>id_099998</th>\n",
       "      <td>NaN</td>\n",
       "      <td>NaN</td>\n",
       "      <td>NaN</td>\n",
       "      <td>일반점포에서</td>\n",
       "      <td>소비자에게</td>\n",
       "      <td>그림판매</td>\n",
       "    </tr>\n",
       "    <tr>\n",
       "      <th>id_099999</th>\n",
       "      <td>NaN</td>\n",
       "      <td>NaN</td>\n",
       "      <td>NaN</td>\n",
       "      <td>사업장에서</td>\n",
       "      <td>일반인.학생대상으로</td>\n",
       "      <td>학습공간제공</td>\n",
       "    </tr>\n",
       "    <tr>\n",
       "      <th>id_100000</th>\n",
       "      <td>NaN</td>\n",
       "      <td>NaN</td>\n",
       "      <td>NaN</td>\n",
       "      <td>사업장에서</td>\n",
       "      <td>대리현대아파트를</td>\n",
       "      <td>관리</td>\n",
       "    </tr>\n",
       "  </tbody>\n",
       "</table>\n",
       "<p>100000 rows × 6 columns</p>\n",
       "</div>"
      ],
      "text/plain": [
       "           digit_1  digit_2  digit_3  text_obj   text_mthd text_deal\n",
       "AI_id                                                               \n",
       "id_000001      NaN      NaN      NaN   치킨전문점에서    고객의주문에의해      치킨판매\n",
       "id_000002      NaN      NaN      NaN      산업공구   다른 소매업자에게    철물 수공구\n",
       "id_000003      NaN      NaN      NaN       절에서    신도을 대상으로    불교단체운영\n",
       "id_000004      NaN      NaN      NaN     영업장에서       고객요구로     자동차튜닝\n",
       "id_000005      NaN      NaN      NaN  실내포장마차에서   접객시설을 갖추고   소주,맥주제공\n",
       "...            ...      ...      ...       ...         ...       ...\n",
       "id_099996      NaN      NaN      NaN     사업장에서     일반인대상으로      버섯농장\n",
       "id_099997      NaN      NaN      NaN     한의원에서     외래환자위주고        치료\n",
       "id_099998      NaN      NaN      NaN    일반점포에서       소비자에게      그림판매\n",
       "id_099999      NaN      NaN      NaN     사업장에서  일반인.학생대상으로    학습공간제공\n",
       "id_100000      NaN      NaN      NaN     사업장에서    대리현대아파트를        관리\n",
       "\n",
       "[100000 rows x 6 columns]"
      ]
     },
     "execution_count": 62,
     "metadata": {},
     "output_type": "execute_result"
    }
   ],
   "source": [
    "df_test"
   ]
  },
  {
   "cell_type": "code",
   "execution_count": 63,
   "metadata": {},
   "outputs": [],
   "source": [
    "tokenizer = DealTokenizer('data/pre_toks_220323_2.csv')"
   ]
  },
  {
   "cell_type": "code",
   "execution_count": 64,
   "metadata": {},
   "outputs": [],
   "source": [
    "df_test['token_obj'] = df_test.text_obj.apply(tokenizer.tokenize)"
   ]
  },
  {
   "cell_type": "code",
   "execution_count": 65,
   "metadata": {},
   "outputs": [],
   "source": [
    "df_test['token_mthd'] = df_test.text_mthd.apply(tokenizer.tokenize)"
   ]
  },
  {
   "cell_type": "code",
   "execution_count": 66,
   "metadata": {},
   "outputs": [],
   "source": [
    "df_test['token_deal'] = df_test.text_deal.apply(tokenizer.tokenize)"
   ]
  },
  {
   "cell_type": "code",
   "execution_count": 67,
   "metadata": {},
   "outputs": [],
   "source": [
    "df_test.to_csv('data/tokenized_testset.csv')"
   ]
  },
  {
   "cell_type": "code",
   "execution_count": 68,
   "metadata": {},
   "outputs": [],
   "source": [
    "with open('data/tokenized_testset.pkl', 'wb') as f:\n",
    "    pickle.dump(df_test, f)"
   ]
  },
  {
   "cell_type": "code",
   "execution_count": 69,
   "metadata": {},
   "outputs": [],
   "source": [
    "token_obj_cnt = df_test.token_obj.explode().value_counts()"
   ]
  },
  {
   "cell_type": "code",
   "execution_count": 70,
   "metadata": {},
   "outputs": [],
   "source": [
    "token_obj_cnt.to_csv('data/test_token_obj_cnt.csv')"
   ]
  },
  {
   "cell_type": "code",
   "execution_count": 71,
   "metadata": {},
   "outputs": [],
   "source": [
    "token_mthd_cnt = df_test.token_mthd.explode().value_counts()"
   ]
  },
  {
   "cell_type": "code",
   "execution_count": 72,
   "metadata": {},
   "outputs": [],
   "source": [
    "token_mthd_cnt.to_csv('data/test_token_mthd_cnt.csv')"
   ]
  },
  {
   "cell_type": "code",
   "execution_count": 73,
   "metadata": {},
   "outputs": [],
   "source": [
    "token_deal_cnt = df_test.token_deal.explode().value_counts()"
   ]
  },
  {
   "cell_type": "code",
   "execution_count": 74,
   "metadata": {},
   "outputs": [],
   "source": [
    "token_deal_cnt.to_csv('data/test_token_deal_cnt.csv')"
   ]
  },
  {
   "cell_type": "code",
   "execution_count": 75,
   "metadata": {},
   "outputs": [],
   "source": [
    "test_all_tokens = list(token_obj_cnt.index) + list(token_mthd_cnt.index) + list(token_deal_cnt.index)"
   ]
  },
  {
   "cell_type": "code",
   "execution_count": 76,
   "metadata": {},
   "outputs": [],
   "source": [
    "test_all_tokens = list(set(test_all_tokens))"
   ]
  },
  {
   "cell_type": "code",
   "execution_count": 77,
   "metadata": {},
   "outputs": [
    {
     "data": {
      "text/plain": [
       "20365"
      ]
     },
     "execution_count": 77,
     "metadata": {},
     "output_type": "execute_result"
    }
   ],
   "source": [
    "len(test_all_tokens)"
   ]
  },
  {
   "cell_type": "code",
   "execution_count": 113,
   "metadata": {},
   "outputs": [
    {
     "data": {
      "text/plain": [
       "True"
      ]
     },
     "execution_count": 113,
     "metadata": {},
     "output_type": "execute_result"
    }
   ],
   "source": [
    "'물건' in pt"
   ]
  },
  {
   "cell_type": "code",
   "execution_count": 36,
   "metadata": {},
   "outputs": [],
   "source": [
    "new_pt = ['강사','성발달장애','발달','장애','캠프용','캠프','남대문','약국','하는','다방','당뇨병','당뇨','신약','아이','도면','출력','미래','세대','확인','편리','입주자','입주','선주','개선','대책','응급차','응급실','응급','발주','발주처','선생님','입고','재단','제단','생삼겹살','건식','습식','수예점','수예','주민','북한','이탈','직접','물건','시청자','시청','계속','발골','처방','또는','편집기','편집실','편집','농사꾼','농사','동네','위원회']"
   ]
  },
  {
   "cell_type": "code",
   "execution_count": 105,
   "metadata": {},
   "outputs": [],
   "source": [
    "new_pt = ['섭외','의식','기부금','후원','수제품','수제','소다','연주','교육', '기름', '엿기름', '전광판용', '전광판', '필리핀', '어학연수', '굴착', '공간', '제출', '컬러풀', '컬러', '실리콘', '행동', '기호성', '기호', '소형차', '소형', '중형차', '중형', '대형차', '대형', '관한', '논문', '새우', '딱새우', '건새우', '명태', '동태전', '동태', '플라스틱용','비장애','장애','샘플','냄새','차단','자산','운용사','운용','배분','법인세','법인','노무사','노무','케어','인공지능','대금업','대금','드라마','대본','군인','전통식','전통','전통적','공산물','공산품','공산','자격증', '방과후', '돌봄', '환전업', '환전','임플란트','정원용','정원사','정원','신고자','신고','간식용','간식','뜨개용','뜨개질용','뜨개질','뜨개','중매인','중매', '인공호흡기', '해외', '국내', '국내외', '소개업', '소개', '술과안주','야구','출원']"
   ]
  },
  {
   "cell_type": "code",
   "execution_count": 124,
   "metadata": {},
   "outputs": [],
   "source": [
    "new_pt = ['센터장', '센터', '경첩', '손잡이']"
   ]
  },
  {
   "cell_type": "code",
   "execution_count": 114,
   "metadata": {},
   "outputs": [],
   "source": [
    "#to_del = ['물건']"
   ]
  },
  {
   "cell_type": "code",
   "execution_count": 125,
   "metadata": {},
   "outputs": [],
   "source": [
    "pt += new_pt"
   ]
  },
  {
   "cell_type": "code",
   "execution_count": 115,
   "metadata": {},
   "outputs": [],
   "source": [
    "#pt.remove('물건')"
   ]
  },
  {
   "cell_type": "code",
   "execution_count": 126,
   "metadata": {},
   "outputs": [],
   "source": [
    "pt = list(set(pt))"
   ]
  },
  {
   "cell_type": "code",
   "execution_count": 127,
   "metadata": {},
   "outputs": [],
   "source": [
    "pt.sort(key=len, reverse=True)"
   ]
  },
  {
   "cell_type": "code",
   "execution_count": 128,
   "metadata": {},
   "outputs": [
    {
     "data": {
      "text/plain": [
       "2413"
      ]
     },
     "execution_count": 128,
     "metadata": {},
     "output_type": "execute_result"
    }
   ],
   "source": [
    "len(pt)"
   ]
  },
  {
   "cell_type": "code",
   "execution_count": 129,
   "metadata": {},
   "outputs": [],
   "source": [
    "pd.DataFrame(pt).to_csv('data/pre_toks_220323_2.csv', index=False)"
   ]
  },
  {
   "cell_type": "code",
   "execution_count": null,
   "metadata": {},
   "outputs": [],
   "source": []
  }
 ],
 "metadata": {
  "colab": {
   "authorship_tag": "ABX9TyN2mRbB2uWVUy+HvHuzFlfN",
   "collapsed_sections": [
    "7sEHgEPU3EgR"
   ],
   "mount_file_id": "1Dn6m2x1mIOncjKhIcDVXPF4PhHRPZq_r",
   "name": "Tokenizer.ipynb",
   "provenance": [],
   "toc_visible": true
  },
  "kernelspec": {
   "display_name": "torch",
   "language": "python",
   "name": "torch"
  },
  "language_info": {
   "codemirror_mode": {
    "name": "ipython",
    "version": 3
   },
   "file_extension": ".py",
   "mimetype": "text/x-python",
   "name": "python",
   "nbconvert_exporter": "python",
   "pygments_lexer": "ipython3",
   "version": "3.8.10"
  },
  "widgets": {
   "application/vnd.jupyter.widget-state+json": {
    "001eda776ce841caa184a99af3731ae4": {
     "model_module": "@jupyter-widgets/controls",
     "model_module_version": "1.5.0",
     "model_name": "FloatProgressModel",
     "state": {
      "_dom_classes": [],
      "_model_module": "@jupyter-widgets/controls",
      "_model_module_version": "1.5.0",
      "_model_name": "FloatProgressModel",
      "_view_count": null,
      "_view_module": "@jupyter-widgets/controls",
      "_view_module_version": "1.5.0",
      "_view_name": "ProgressView",
      "bar_style": "success",
      "description": "",
      "description_tooltip": null,
      "layout": "IPY_MODEL_842009c0874d40b2917352ceea82d99f",
      "max": 1000,
      "min": 0,
      "orientation": "horizontal",
      "style": "IPY_MODEL_07735708533f40c99c571578af7d400f",
      "value": 1000
     }
    },
    "07735708533f40c99c571578af7d400f": {
     "model_module": "@jupyter-widgets/controls",
     "model_module_version": "1.5.0",
     "model_name": "ProgressStyleModel",
     "state": {
      "_model_module": "@jupyter-widgets/controls",
      "_model_module_version": "1.5.0",
      "_model_name": "ProgressStyleModel",
      "_view_count": null,
      "_view_module": "@jupyter-widgets/base",
      "_view_module_version": "1.2.0",
      "_view_name": "StyleView",
      "bar_color": null,
      "description_width": ""
     }
    },
    "0cde198a4474408f89798733582b6585": {
     "model_module": "@jupyter-widgets/base",
     "model_module_version": "1.2.0",
     "model_name": "LayoutModel",
     "state": {
      "_model_module": "@jupyter-widgets/base",
      "_model_module_version": "1.2.0",
      "_model_name": "LayoutModel",
      "_view_count": null,
      "_view_module": "@jupyter-widgets/base",
      "_view_module_version": "1.2.0",
      "_view_name": "LayoutView",
      "align_content": null,
      "align_items": null,
      "align_self": null,
      "border": null,
      "bottom": null,
      "display": null,
      "flex": null,
      "flex_flow": null,
      "grid_area": null,
      "grid_auto_columns": null,
      "grid_auto_flow": null,
      "grid_auto_rows": null,
      "grid_column": null,
      "grid_gap": null,
      "grid_row": null,
      "grid_template_areas": null,
      "grid_template_columns": null,
      "grid_template_rows": null,
      "height": null,
      "justify_content": null,
      "justify_items": null,
      "left": null,
      "margin": null,
      "max_height": null,
      "max_width": null,
      "min_height": null,
      "min_width": null,
      "object_fit": null,
      "object_position": null,
      "order": null,
      "overflow": null,
      "overflow_x": null,
      "overflow_y": null,
      "padding": null,
      "right": null,
      "top": null,
      "visibility": null,
      "width": null
     }
    },
    "151a979d15cb4948ac872551dbd40fca": {
     "model_module": "@jupyter-widgets/base",
     "model_module_version": "1.2.0",
     "model_name": "LayoutModel",
     "state": {
      "_model_module": "@jupyter-widgets/base",
      "_model_module_version": "1.2.0",
      "_model_name": "LayoutModel",
      "_view_count": null,
      "_view_module": "@jupyter-widgets/base",
      "_view_module_version": "1.2.0",
      "_view_name": "LayoutView",
      "align_content": null,
      "align_items": null,
      "align_self": null,
      "border": null,
      "bottom": null,
      "display": null,
      "flex": null,
      "flex_flow": null,
      "grid_area": null,
      "grid_auto_columns": null,
      "grid_auto_flow": null,
      "grid_auto_rows": null,
      "grid_column": null,
      "grid_gap": null,
      "grid_row": null,
      "grid_template_areas": null,
      "grid_template_columns": null,
      "grid_template_rows": null,
      "height": null,
      "justify_content": null,
      "justify_items": null,
      "left": null,
      "margin": null,
      "max_height": null,
      "max_width": null,
      "min_height": null,
      "min_width": null,
      "object_fit": null,
      "object_position": null,
      "order": null,
      "overflow": null,
      "overflow_x": null,
      "overflow_y": null,
      "padding": null,
      "right": null,
      "top": null,
      "visibility": null,
      "width": null
     }
    },
    "2220cd740f0444ce8b0a8844b09bc5a4": {
     "model_module": "@jupyter-widgets/controls",
     "model_module_version": "1.5.0",
     "model_name": "HTMLModel",
     "state": {
      "_dom_classes": [],
      "_model_module": "@jupyter-widgets/controls",
      "_model_module_version": "1.5.0",
      "_model_name": "HTMLModel",
      "_view_count": null,
      "_view_module": "@jupyter-widgets/controls",
      "_view_module_version": "1.5.0",
      "_view_name": "HTMLView",
      "description": "",
      "description_tooltip": null,
      "layout": "IPY_MODEL_7b06f1bb55c24da5ab6cb706298162da",
      "placeholder": "​",
      "style": "IPY_MODEL_e8bd3a91cdb34719bb3fa2e9c497e3c7",
      "value": " 0.98k/0.98k [00:00&lt;00:00, 6.83kB/s]"
     }
    },
    "2a95fec31ac54120b540377fe7ff829b": {
     "model_module": "@jupyter-widgets/controls",
     "model_module_version": "1.5.0",
     "model_name": "DescriptionStyleModel",
     "state": {
      "_model_module": "@jupyter-widgets/controls",
      "_model_module_version": "1.5.0",
      "_model_name": "DescriptionStyleModel",
      "_view_count": null,
      "_view_module": "@jupyter-widgets/base",
      "_view_module_version": "1.2.0",
      "_view_name": "StyleView",
      "description_width": ""
     }
    },
    "2fd2dc65686941e0b6240ef06b5794ec": {
     "model_module": "@jupyter-widgets/controls",
     "model_module_version": "1.5.0",
     "model_name": "DescriptionStyleModel",
     "state": {
      "_model_module": "@jupyter-widgets/controls",
      "_model_module_version": "1.5.0",
      "_model_name": "DescriptionStyleModel",
      "_view_count": null,
      "_view_module": "@jupyter-widgets/base",
      "_view_module_version": "1.2.0",
      "_view_name": "StyleView",
      "description_width": ""
     }
    },
    "3b6573cab19849649da88515f1dc9498": {
     "model_module": "@jupyter-widgets/controls",
     "model_module_version": "1.5.0",
     "model_name": "HBoxModel",
     "state": {
      "_dom_classes": [],
      "_model_module": "@jupyter-widgets/controls",
      "_model_module_version": "1.5.0",
      "_model_name": "HBoxModel",
      "_view_count": null,
      "_view_module": "@jupyter-widgets/controls",
      "_view_module_version": "1.5.0",
      "_view_name": "HBoxView",
      "box_style": "",
      "children": [
       "IPY_MODEL_ac0d53bfd6ee4504b45a716f1e38e07b",
       "IPY_MODEL_43285d908c7b4a1084e1a054ec4abab8",
       "IPY_MODEL_ab4e4f33247c449f96326889bcf36aa3"
      ],
      "layout": "IPY_MODEL_0cde198a4474408f89798733582b6585"
     }
    },
    "43285d908c7b4a1084e1a054ec4abab8": {
     "model_module": "@jupyter-widgets/controls",
     "model_module_version": "1.5.0",
     "model_name": "FloatProgressModel",
     "state": {
      "_dom_classes": [],
      "_model_module": "@jupyter-widgets/controls",
      "_model_module_version": "1.5.0",
      "_model_name": "FloatProgressModel",
      "_view_count": null,
      "_view_module": "@jupyter-widgets/controls",
      "_view_module_version": "1.5.0",
      "_view_name": "ProgressView",
      "bar_style": "success",
      "description": "",
      "description_tooltip": null,
      "layout": "IPY_MODEL_938dc2a4bbe3483a954556f13a3b1e62",
      "max": 2825034,
      "min": 0,
      "orientation": "horizontal",
      "style": "IPY_MODEL_7ea0f1b291ae4f2bbeb5ec58f6b2a7f6",
      "value": 2825034
     }
    },
    "4f041329650548af9f65b2e09134c10d": {
     "model_module": "@jupyter-widgets/controls",
     "model_module_version": "1.5.0",
     "model_name": "DescriptionStyleModel",
     "state": {
      "_model_module": "@jupyter-widgets/controls",
      "_model_module_version": "1.5.0",
      "_model_name": "DescriptionStyleModel",
      "_view_count": null,
      "_view_module": "@jupyter-widgets/base",
      "_view_module_version": "1.2.0",
      "_view_name": "StyleView",
      "description_width": ""
     }
    },
    "526555934eb84730a3415793922c627a": {
     "model_module": "@jupyter-widgets/base",
     "model_module_version": "1.2.0",
     "model_name": "LayoutModel",
     "state": {
      "_model_module": "@jupyter-widgets/base",
      "_model_module_version": "1.2.0",
      "_model_name": "LayoutModel",
      "_view_count": null,
      "_view_module": "@jupyter-widgets/base",
      "_view_module_version": "1.2.0",
      "_view_name": "LayoutView",
      "align_content": null,
      "align_items": null,
      "align_self": null,
      "border": null,
      "bottom": null,
      "display": null,
      "flex": null,
      "flex_flow": null,
      "grid_area": null,
      "grid_auto_columns": null,
      "grid_auto_flow": null,
      "grid_auto_rows": null,
      "grid_column": null,
      "grid_gap": null,
      "grid_row": null,
      "grid_template_areas": null,
      "grid_template_columns": null,
      "grid_template_rows": null,
      "height": null,
      "justify_content": null,
      "justify_items": null,
      "left": null,
      "margin": null,
      "max_height": null,
      "max_width": null,
      "min_height": null,
      "min_width": null,
      "object_fit": null,
      "object_position": null,
      "order": null,
      "overflow": null,
      "overflow_x": null,
      "overflow_y": null,
      "padding": null,
      "right": null,
      "top": null,
      "visibility": null,
      "width": null
     }
    },
    "7b06f1bb55c24da5ab6cb706298162da": {
     "model_module": "@jupyter-widgets/base",
     "model_module_version": "1.2.0",
     "model_name": "LayoutModel",
     "state": {
      "_model_module": "@jupyter-widgets/base",
      "_model_module_version": "1.2.0",
      "_model_name": "LayoutModel",
      "_view_count": null,
      "_view_module": "@jupyter-widgets/base",
      "_view_module_version": "1.2.0",
      "_view_name": "LayoutView",
      "align_content": null,
      "align_items": null,
      "align_self": null,
      "border": null,
      "bottom": null,
      "display": null,
      "flex": null,
      "flex_flow": null,
      "grid_area": null,
      "grid_auto_columns": null,
      "grid_auto_flow": null,
      "grid_auto_rows": null,
      "grid_column": null,
      "grid_gap": null,
      "grid_row": null,
      "grid_template_areas": null,
      "grid_template_columns": null,
      "grid_template_rows": null,
      "height": null,
      "justify_content": null,
      "justify_items": null,
      "left": null,
      "margin": null,
      "max_height": null,
      "max_width": null,
      "min_height": null,
      "min_width": null,
      "object_fit": null,
      "object_position": null,
      "order": null,
      "overflow": null,
      "overflow_x": null,
      "overflow_y": null,
      "padding": null,
      "right": null,
      "top": null,
      "visibility": null,
      "width": null
     }
    },
    "7ea0f1b291ae4f2bbeb5ec58f6b2a7f6": {
     "model_module": "@jupyter-widgets/controls",
     "model_module_version": "1.5.0",
     "model_name": "ProgressStyleModel",
     "state": {
      "_model_module": "@jupyter-widgets/controls",
      "_model_module_version": "1.5.0",
      "_model_name": "ProgressStyleModel",
      "_view_count": null,
      "_view_module": "@jupyter-widgets/base",
      "_view_module_version": "1.2.0",
      "_view_name": "StyleView",
      "bar_color": null,
      "description_width": ""
     }
    },
    "842009c0874d40b2917352ceea82d99f": {
     "model_module": "@jupyter-widgets/base",
     "model_module_version": "1.2.0",
     "model_name": "LayoutModel",
     "state": {
      "_model_module": "@jupyter-widgets/base",
      "_model_module_version": "1.2.0",
      "_model_name": "LayoutModel",
      "_view_count": null,
      "_view_module": "@jupyter-widgets/base",
      "_view_module_version": "1.2.0",
      "_view_name": "LayoutView",
      "align_content": null,
      "align_items": null,
      "align_self": null,
      "border": null,
      "bottom": null,
      "display": null,
      "flex": null,
      "flex_flow": null,
      "grid_area": null,
      "grid_auto_columns": null,
      "grid_auto_flow": null,
      "grid_auto_rows": null,
      "grid_column": null,
      "grid_gap": null,
      "grid_row": null,
      "grid_template_areas": null,
      "grid_template_columns": null,
      "grid_template_rows": null,
      "height": null,
      "justify_content": null,
      "justify_items": null,
      "left": null,
      "margin": null,
      "max_height": null,
      "max_width": null,
      "min_height": null,
      "min_width": null,
      "object_fit": null,
      "object_position": null,
      "order": null,
      "overflow": null,
      "overflow_x": null,
      "overflow_y": null,
      "padding": null,
      "right": null,
      "top": null,
      "visibility": null,
      "width": null
     }
    },
    "845ea6f469a64b9ea44c1a72a4cb5005": {
     "model_module": "@jupyter-widgets/base",
     "model_module_version": "1.2.0",
     "model_name": "LayoutModel",
     "state": {
      "_model_module": "@jupyter-widgets/base",
      "_model_module_version": "1.2.0",
      "_model_name": "LayoutModel",
      "_view_count": null,
      "_view_module": "@jupyter-widgets/base",
      "_view_module_version": "1.2.0",
      "_view_name": "LayoutView",
      "align_content": null,
      "align_items": null,
      "align_self": null,
      "border": null,
      "bottom": null,
      "display": null,
      "flex": null,
      "flex_flow": null,
      "grid_area": null,
      "grid_auto_columns": null,
      "grid_auto_flow": null,
      "grid_auto_rows": null,
      "grid_column": null,
      "grid_gap": null,
      "grid_row": null,
      "grid_template_areas": null,
      "grid_template_columns": null,
      "grid_template_rows": null,
      "height": null,
      "justify_content": null,
      "justify_items": null,
      "left": null,
      "margin": null,
      "max_height": null,
      "max_width": null,
      "min_height": null,
      "min_width": null,
      "object_fit": null,
      "object_position": null,
      "order": null,
      "overflow": null,
      "overflow_x": null,
      "overflow_y": null,
      "padding": null,
      "right": null,
      "top": null,
      "visibility": null,
      "width": null
     }
    },
    "938dc2a4bbe3483a954556f13a3b1e62": {
     "model_module": "@jupyter-widgets/base",
     "model_module_version": "1.2.0",
     "model_name": "LayoutModel",
     "state": {
      "_model_module": "@jupyter-widgets/base",
      "_model_module_version": "1.2.0",
      "_model_name": "LayoutModel",
      "_view_count": null,
      "_view_module": "@jupyter-widgets/base",
      "_view_module_version": "1.2.0",
      "_view_name": "LayoutView",
      "align_content": null,
      "align_items": null,
      "align_self": null,
      "border": null,
      "bottom": null,
      "display": null,
      "flex": null,
      "flex_flow": null,
      "grid_area": null,
      "grid_auto_columns": null,
      "grid_auto_flow": null,
      "grid_auto_rows": null,
      "grid_column": null,
      "grid_gap": null,
      "grid_row": null,
      "grid_template_areas": null,
      "grid_template_columns": null,
      "grid_template_rows": null,
      "height": null,
      "justify_content": null,
      "justify_items": null,
      "left": null,
      "margin": null,
      "max_height": null,
      "max_width": null,
      "min_height": null,
      "min_width": null,
      "object_fit": null,
      "object_position": null,
      "order": null,
      "overflow": null,
      "overflow_x": null,
      "overflow_y": null,
      "padding": null,
      "right": null,
      "top": null,
      "visibility": null,
      "width": null
     }
    },
    "9f01b2bcd6f84b3e81bd6284e94e479b": {
     "model_module": "@jupyter-widgets/base",
     "model_module_version": "1.2.0",
     "model_name": "LayoutModel",
     "state": {
      "_model_module": "@jupyter-widgets/base",
      "_model_module_version": "1.2.0",
      "_model_name": "LayoutModel",
      "_view_count": null,
      "_view_module": "@jupyter-widgets/base",
      "_view_module_version": "1.2.0",
      "_view_name": "LayoutView",
      "align_content": null,
      "align_items": null,
      "align_self": null,
      "border": null,
      "bottom": null,
      "display": null,
      "flex": null,
      "flex_flow": null,
      "grid_area": null,
      "grid_auto_columns": null,
      "grid_auto_flow": null,
      "grid_auto_rows": null,
      "grid_column": null,
      "grid_gap": null,
      "grid_row": null,
      "grid_template_areas": null,
      "grid_template_columns": null,
      "grid_template_rows": null,
      "height": null,
      "justify_content": null,
      "justify_items": null,
      "left": null,
      "margin": null,
      "max_height": null,
      "max_width": null,
      "min_height": null,
      "min_width": null,
      "object_fit": null,
      "object_position": null,
      "order": null,
      "overflow": null,
      "overflow_x": null,
      "overflow_y": null,
      "padding": null,
      "right": null,
      "top": null,
      "visibility": null,
      "width": null
     }
    },
    "a913ca25e8584f239d774c8053bd73e8": {
     "model_module": "@jupyter-widgets/controls",
     "model_module_version": "1.5.0",
     "model_name": "HBoxModel",
     "state": {
      "_dom_classes": [],
      "_model_module": "@jupyter-widgets/controls",
      "_model_module_version": "1.5.0",
      "_model_name": "HBoxModel",
      "_view_count": null,
      "_view_module": "@jupyter-widgets/controls",
      "_view_module_version": "1.5.0",
      "_view_name": "HBoxView",
      "box_style": "",
      "children": [
       "IPY_MODEL_f5ae82e5ea574aefa847c2b174847466",
       "IPY_MODEL_001eda776ce841caa184a99af3731ae4",
       "IPY_MODEL_2220cd740f0444ce8b0a8844b09bc5a4"
      ],
      "layout": "IPY_MODEL_845ea6f469a64b9ea44c1a72a4cb5005"
     }
    },
    "ab4e4f33247c449f96326889bcf36aa3": {
     "model_module": "@jupyter-widgets/controls",
     "model_module_version": "1.5.0",
     "model_name": "HTMLModel",
     "state": {
      "_dom_classes": [],
      "_model_module": "@jupyter-widgets/controls",
      "_model_module_version": "1.5.0",
      "_model_name": "HTMLModel",
      "_view_count": null,
      "_view_module": "@jupyter-widgets/controls",
      "_view_module_version": "1.5.0",
      "_view_name": "HTMLView",
      "description": "",
      "description_tooltip": null,
      "layout": "IPY_MODEL_9f01b2bcd6f84b3e81bd6284e94e479b",
      "placeholder": "​",
      "style": "IPY_MODEL_4f041329650548af9f65b2e09134c10d",
      "value": " 2.69M/2.69M [00:01&lt;00:00, 4.51MB/s]"
     }
    },
    "ac0d53bfd6ee4504b45a716f1e38e07b": {
     "model_module": "@jupyter-widgets/controls",
     "model_module_version": "1.5.0",
     "model_name": "HTMLModel",
     "state": {
      "_dom_classes": [],
      "_model_module": "@jupyter-widgets/controls",
      "_model_module_version": "1.5.0",
      "_model_name": "HTMLModel",
      "_view_count": null,
      "_view_module": "@jupyter-widgets/controls",
      "_view_module_version": "1.5.0",
      "_view_name": "HTMLView",
      "description": "",
      "description_tooltip": null,
      "layout": "IPY_MODEL_526555934eb84730a3415793922c627a",
      "placeholder": "​",
      "style": "IPY_MODEL_2a95fec31ac54120b540377fe7ff829b",
      "value": "Downloading: 100%"
     }
    },
    "e8bd3a91cdb34719bb3fa2e9c497e3c7": {
     "model_module": "@jupyter-widgets/controls",
     "model_module_version": "1.5.0",
     "model_name": "DescriptionStyleModel",
     "state": {
      "_model_module": "@jupyter-widgets/controls",
      "_model_module_version": "1.5.0",
      "_model_name": "DescriptionStyleModel",
      "_view_count": null,
      "_view_module": "@jupyter-widgets/base",
      "_view_module_version": "1.2.0",
      "_view_name": "StyleView",
      "description_width": ""
     }
    },
    "f5ae82e5ea574aefa847c2b174847466": {
     "model_module": "@jupyter-widgets/controls",
     "model_module_version": "1.5.0",
     "model_name": "HTMLModel",
     "state": {
      "_dom_classes": [],
      "_model_module": "@jupyter-widgets/controls",
      "_model_module_version": "1.5.0",
      "_model_name": "HTMLModel",
      "_view_count": null,
      "_view_module": "@jupyter-widgets/controls",
      "_view_module_version": "1.5.0",
      "_view_name": "HTMLView",
      "description": "",
      "description_tooltip": null,
      "layout": "IPY_MODEL_151a979d15cb4948ac872551dbd40fca",
      "placeholder": "​",
      "style": "IPY_MODEL_2fd2dc65686941e0b6240ef06b5794ec",
      "value": "Downloading: 100%"
     }
    }
   }
  }
 },
 "nbformat": 4,
 "nbformat_minor": 1
}
